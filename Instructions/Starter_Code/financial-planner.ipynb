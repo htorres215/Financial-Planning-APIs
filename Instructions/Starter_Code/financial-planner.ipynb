{
 "cells": [
  {
   "cell_type": "markdown",
   "metadata": {},
   "source": [
    "# Unit 5 - Financial Planning\n"
   ]
  },
  {
   "cell_type": "code",
   "execution_count": 1,
   "metadata": {},
   "outputs": [],
   "source": [
    "# Initial imports\n",
    "import os\n",
    "import requests\n",
    "import pandas as pd\n",
    "from dotenv import load_dotenv\n",
    "import alpaca_trade_api as tradeapi\n",
    "from MCForecastTools import MCSimulation\n",
    "\n",
    "%matplotlib inline"
   ]
  },
  {
   "cell_type": "code",
   "execution_count": 2,
   "metadata": {},
   "outputs": [
    {
     "data": {
      "text/plain": [
       "True"
      ]
     },
     "execution_count": 2,
     "metadata": {},
     "output_type": "execute_result"
    }
   ],
   "source": [
    "# Load .env enviroment variables\n",
    "load_dotenv()"
   ]
  },
  {
   "cell_type": "code",
   "execution_count": 3,
   "metadata": {},
   "outputs": [],
   "source": [
    "import json"
   ]
  },
  {
   "cell_type": "markdown",
   "metadata": {},
   "source": [
    "## Part 1 - Personal Finance Planner"
   ]
  },
  {
   "cell_type": "markdown",
   "metadata": {},
   "source": [
    "### Collect Crypto Prices Using the `requests` Library"
   ]
  },
  {
   "cell_type": "code",
   "execution_count": 4,
   "metadata": {},
   "outputs": [],
   "source": [
    "# Set current amount of crypto assets\n",
    "# YOUR CODE HERE!\n",
    "my_btc = 1.2\n",
    "my_eth = 5.3"
   ]
  },
  {
   "cell_type": "code",
   "execution_count": 5,
   "metadata": {},
   "outputs": [
    {
     "data": {
      "text/plain": [
       "{'data': {'1': {'id': 1,\n",
       "   'name': 'Bitcoin',\n",
       "   'symbol': 'BTC',\n",
       "   'website_slug': 'bitcoin',\n",
       "   'rank': 1,\n",
       "   'circulating_supply': 18609543,\n",
       "   'total_supply': 18609543,\n",
       "   'max_supply': 21000000,\n",
       "   'quotes': {'USD': {'price': 32263.0,\n",
       "     'volume_24h': 42856610603,\n",
       "     'market_cap': 600595408892,\n",
       "     'percentage_change_1h': 0.123612484680445,\n",
       "     'percentage_change_24h': 1.64253313163939,\n",
       "     'percentage_change_7d': -9.89172179761479,\n",
       "     'percent_change_1h': 0.123612484680445,\n",
       "     'percent_change_24h': 1.64253313163939,\n",
       "     'percent_change_7d': -9.89172179761479},\n",
       "    'CAD': {'price': 41093.3831,\n",
       "     'volume_24h': 54586464925.0411,\n",
       "     'market_cap': 764978372305.74,\n",
       "     'percent_change_1h': 0.123612484680445,\n",
       "     'percent_change_24h': 1.64253313163939,\n",
       "     'percent_change_7d': -9.89172179761479}},\n",
       "   'last_updated': 1611532847}},\n",
       " 'metadata': {'timestamp': 1611532847,\n",
       "  'num_cryptocurrencies': 1385,\n",
       "  'error': None}}"
      ]
     },
     "execution_count": 5,
     "metadata": {},
     "output_type": "execute_result"
    }
   ],
   "source": [
    "# Crypto API URLs (BTC)\n",
    "btc_url = \"https://api.alternative.me/v2/ticker/Bitcoin/?convert=CAD\"\n",
    "btc_response_data = requests.get(btc_url).json()\n",
    "btc_response_data"
   ]
  },
  {
   "cell_type": "code",
   "execution_count": 6,
   "metadata": {},
   "outputs": [
    {
     "data": {
      "text/plain": [
       "{'data': {'1027': {'id': 1027,\n",
       "   'name': 'Ethereum',\n",
       "   'symbol': 'ETH',\n",
       "   'website_slug': 'ethereum',\n",
       "   'rank': 2,\n",
       "   'circulating_supply': 114389848,\n",
       "   'total_supply': 114389848,\n",
       "   'max_supply': 0,\n",
       "   'quotes': {'USD': {'price': 1390.03,\n",
       "     'volume_24h': 39891029336,\n",
       "     'market_cap': 159292411351,\n",
       "     'percentage_change_1h': 1.33688411821431,\n",
       "     'percentage_change_24h': 13.6790764825037,\n",
       "     'percentage_change_7d': 13.0676923434964,\n",
       "     'percent_change_1h': 1.33688411821431,\n",
       "     'percent_change_24h': 13.6790764825037,\n",
       "     'percent_change_7d': 13.0676923434964},\n",
       "    'CAD': {'price': 1770.481211,\n",
       "     'volume_24h': 50809204065.2632,\n",
       "     'market_cap': 202890744337.769,\n",
       "     'percent_change_1h': 1.33688411821431,\n",
       "     'percent_change_24h': 13.6790764825037,\n",
       "     'percent_change_7d': 13.0676923434964}},\n",
       "   'last_updated': 1611533039}},\n",
       " 'metadata': {'timestamp': 1611533039,\n",
       "  'num_cryptocurrencies': 1385,\n",
       "  'error': None}}"
      ]
     },
     "execution_count": 6,
     "metadata": {},
     "output_type": "execute_result"
    }
   ],
   "source": [
    "# Crypto API URLs (ETH)\n",
    "eth_url = \"https://api.alternative.me/v2/ticker/Ethereum/?convert=CAD\"\n",
    "eth_response_data = requests.get(eth_url).json()\n",
    "eth_response_data"
   ]
  },
  {
   "cell_type": "code",
   "execution_count": 7,
   "metadata": {},
   "outputs": [
    {
     "data": {
      "text/plain": [
       "32263.0"
      ]
     },
     "execution_count": 7,
     "metadata": {},
     "output_type": "execute_result"
    }
   ],
   "source": [
    "# Fetch current BTC price\n",
    "# YOUR CODE HERE!\n",
    "btc_response_data['data']['1']['quotes']['USD']['price']\n",
    "\n",
    "btc_USD_Price = ()\n",
    "btc_USD_Price = btc_response_data['data']['1']['quotes']['USD']['price']\n",
    "btc_USD_Price"
   ]
  },
  {
   "cell_type": "code",
   "execution_count": 8,
   "metadata": {},
   "outputs": [
    {
     "data": {
      "text/plain": [
       "1390.03"
      ]
     },
     "execution_count": 8,
     "metadata": {},
     "output_type": "execute_result"
    }
   ],
   "source": [
    "# Fetch current ETH price\n",
    "# YOUR CODE HERE!]\n",
    "eth_response_data['data']['1027']['quotes']['USD']['price']\n",
    "\n",
    "eth_USD_Price = ()\n",
    "eth_USD_Price = eth_response_data['data']['1027']['quotes']['USD']['price']\n",
    "eth_USD_Price"
   ]
  },
  {
   "cell_type": "code",
   "execution_count": 9,
   "metadata": {},
   "outputs": [
    {
     "data": {
      "text/plain": [
       "38715.6"
      ]
     },
     "execution_count": 9,
     "metadata": {},
     "output_type": "execute_result"
    }
   ],
   "source": [
    "# Compute current value of my crpto\n",
    "# YOUR CODE HERE!\n",
    "my_btc_value = my_btc * btc_USD_Price\n",
    "my_btc_value"
   ]
  },
  {
   "cell_type": "code",
   "execution_count": 10,
   "metadata": {},
   "outputs": [
    {
     "data": {
      "text/plain": [
       "7367.159"
      ]
     },
     "execution_count": 10,
     "metadata": {},
     "output_type": "execute_result"
    }
   ],
   "source": [
    "# Compute current value of my crpto\n",
    "# YOUR CODE HERE!\n",
    "my_eth_value = my_eth * eth_USD_Price\n",
    "my_eth_value"
   ]
  },
  {
   "cell_type": "code",
   "execution_count": 11,
   "metadata": {},
   "outputs": [
    {
     "name": "stdout",
     "output_type": "stream",
     "text": [
      "The current value of your 1.2 BTC is $38715.60\n",
      "The current value of your 5.3 ETH is $7367.16\n"
     ]
    }
   ],
   "source": [
    "# Print current crypto wallet balance\n",
    "print(f\"The current value of your {my_btc} BTC is ${my_btc_value:0.2f}\")\n",
    "print(f\"The current value of your {my_eth} ETH is ${my_eth_value:0.2f}\")"
   ]
  },
  {
   "cell_type": "markdown",
   "metadata": {},
   "source": [
    "### Collect Investments Data Using Alpaca: `SPY` (stocks) and `AGG` (bonds)"
   ]
  },
  {
   "cell_type": "code",
   "execution_count": 12,
   "metadata": {},
   "outputs": [],
   "source": [
    "# Current amount of shares\n",
    "# YOUR CODE HERE!\n",
    "my_agg = 200\n",
    "my_spy = 50"
   ]
  },
  {
   "cell_type": "code",
   "execution_count": 13,
   "metadata": {},
   "outputs": [],
   "source": [
    "# Set Alpaca API key and secret\n",
    "# YOUR CODE HERE!\n",
    "alpaca_api_key = os.getenv(\"Alpaca_API_Key\")\n",
    "alpaca_secret_key = os.getenv(\"Alpaca_Secret_Key\")"
   ]
  },
  {
   "cell_type": "code",
   "execution_count": 14,
   "metadata": {},
   "outputs": [
    {
     "name": "stdout",
     "output_type": "stream",
     "text": [
      "Alpaca Key type: <class 'str'>\n",
      "Alpaca Secret Key type: <class 'str'>\n"
     ]
    }
   ],
   "source": [
    "# Verify that Alpaca key and secret were correctly loaded\n",
    "print(f\"Alpaca Key type: {type(alpaca_api_key)}\")\n",
    "print(f\"Alpaca Secret Key type: {type(alpaca_secret_key)}\")"
   ]
  },
  {
   "cell_type": "code",
   "execution_count": 15,
   "metadata": {},
   "outputs": [],
   "source": [
    "# Create the Alpaca API object\n",
    "# YOUR CODE HERE!\n",
    "alpaca = tradeapi.REST(\n",
    "    alpaca_api_key,\n",
    "    alpaca_secret_key,\n",
    "    api_version=\"v2\")"
   ]
  },
  {
   "cell_type": "code",
   "execution_count": 16,
   "metadata": {},
   "outputs": [],
   "source": [
    "# Format current date as ISO format\n",
    "# YOUR CODE HERE!\n",
    "today = pd.Timestamp(\"2021-01-22\", tz=\"America/New_York\").isoformat()"
   ]
  },
  {
   "cell_type": "code",
   "execution_count": 17,
   "metadata": {},
   "outputs": [],
   "source": [
    "# Set the tickers\n",
    "tickers = [\"AGG\", \"SPY\"]\n",
    "\n",
    "# Set timeframe to '1D' for Alpaca API\n",
    "timeframe = \"1D\""
   ]
  },
  {
   "cell_type": "code",
   "execution_count": 18,
   "metadata": {},
   "outputs": [],
   "source": [
    "# Get current closing prices for SPY and AGG\n",
    "# YOUR CODE HERE!\n",
    "Inv_Data_df_portfolio = alpaca.get_barset(\n",
    "    tickers,\n",
    "    timeframe,\n",
    "    start = today,\n",
    "    end = today\n",
    ").df"
   ]
  },
  {
   "cell_type": "code",
   "execution_count": 19,
   "metadata": {},
   "outputs": [
    {
     "name": "stdout",
     "output_type": "stream",
     "text": [
      "                              AGG                                      SPY  \\\n",
      "                             open    high     low   close   volume    open   \n",
      "time                                                                         \n",
      "2021-01-22 00:00:00-05:00  117.29  117.32  117.19  117.26  3469745  382.25   \n",
      "\n",
      "                                                                \n",
      "                               high      low   close    volume  \n",
      "time                                                            \n",
      "2021-01-22 00:00:00-05:00  384.1256  381.835  382.86  39108239  \n"
     ]
    }
   ],
   "source": [
    "# Preview DataFrame\n",
    "# YOUR CODE HERE!\n",
    "print(Inv_Data_df_portfolio)"
   ]
  },
  {
   "cell_type": "code",
   "execution_count": 20,
   "metadata": {},
   "outputs": [
    {
     "data": {
      "text/html": [
       "<div>\n",
       "<style scoped>\n",
       "    .dataframe tbody tr th:only-of-type {\n",
       "        vertical-align: middle;\n",
       "    }\n",
       "\n",
       "    .dataframe tbody tr th {\n",
       "        vertical-align: top;\n",
       "    }\n",
       "\n",
       "    .dataframe thead th {\n",
       "        text-align: right;\n",
       "    }\n",
       "</style>\n",
       "<table border=\"1\" class=\"dataframe\">\n",
       "  <thead>\n",
       "    <tr style=\"text-align: right;\">\n",
       "      <th></th>\n",
       "      <th>AGG</th>\n",
       "      <th>SPY</th>\n",
       "    </tr>\n",
       "  </thead>\n",
       "  <tbody>\n",
       "    <tr>\n",
       "      <th>2021-01-22</th>\n",
       "      <td>117.26</td>\n",
       "      <td>382.86</td>\n",
       "    </tr>\n",
       "  </tbody>\n",
       "</table>\n",
       "</div>"
      ],
      "text/plain": [
       "               AGG     SPY\n",
       "2021-01-22  117.26  382.86"
      ]
     },
     "execution_count": 20,
     "metadata": {},
     "output_type": "execute_result"
    }
   ],
   "source": [
    "# Pick AGG and SPY close prices\n",
    "# YOUR CODE HERE!\n",
    "Inv_Data_closing_prices = pd.DataFrame()\n",
    "Inv_Data_closing_prices[\"AGG\"] = Inv_Data_df_portfolio[\"AGG\"][\"close\"]\n",
    "Inv_Data_closing_prices[\"SPY\"] = Inv_Data_df_portfolio[\"SPY\"][\"close\"]\n",
    "\n",
    "Inv_Data_closing_prices.index = Inv_Data_closing_prices.index.date\n",
    "Inv_Data_closing_prices.head()"
   ]
  },
  {
   "cell_type": "code",
   "execution_count": 21,
   "metadata": {},
   "outputs": [
    {
     "data": {
      "text/plain": [
       "117.26"
      ]
     },
     "execution_count": 21,
     "metadata": {},
     "output_type": "execute_result"
    }
   ],
   "source": [
    "agg_close_price = Inv_Data_closing_prices[\"AGG\"][0]\n",
    "agg_close_price"
   ]
  },
  {
   "cell_type": "code",
   "execution_count": 22,
   "metadata": {},
   "outputs": [
    {
     "data": {
      "text/plain": [
       "382.86"
      ]
     },
     "execution_count": 22,
     "metadata": {},
     "output_type": "execute_result"
    }
   ],
   "source": [
    "spy_close_price = Inv_Data_closing_prices[\"SPY\"][0]\n",
    "spy_close_price"
   ]
  },
  {
   "cell_type": "code",
   "execution_count": 23,
   "metadata": {},
   "outputs": [
    {
     "name": "stdout",
     "output_type": "stream",
     "text": [
      "Current AGG closing price: $117.26\n",
      "Current SPY closing price: $382.86\n"
     ]
    }
   ],
   "source": [
    "# Print AGG and SPY close prices\n",
    "print(f\"Current AGG closing price: ${agg_close_price}\")\n",
    "print(f\"Current SPY closing price: ${spy_close_price}\")"
   ]
  },
  {
   "cell_type": "code",
   "execution_count": 24,
   "metadata": {},
   "outputs": [
    {
     "data": {
      "text/plain": [
       "19143.0"
      ]
     },
     "execution_count": 24,
     "metadata": {},
     "output_type": "execute_result"
    }
   ],
   "source": [
    "# Compute the current value of shares\n",
    "# YOUR CODE HERE!\n",
    "my_spy_value = my_spy * spy_close_price\n",
    "my_spy_value"
   ]
  },
  {
   "cell_type": "code",
   "execution_count": 25,
   "metadata": {},
   "outputs": [
    {
     "data": {
      "text/plain": [
       "23452.0"
      ]
     },
     "execution_count": 25,
     "metadata": {},
     "output_type": "execute_result"
    }
   ],
   "source": [
    "# Compute the current value of shares\n",
    "# YOUR CODE HERE!\n",
    "my_agg_value = my_agg * agg_close_price\n",
    "my_agg_value"
   ]
  },
  {
   "cell_type": "code",
   "execution_count": 26,
   "metadata": {},
   "outputs": [
    {
     "name": "stdout",
     "output_type": "stream",
     "text": [
      "The current value of your 50 SPY shares is $19143.00\n",
      "The current value of your 200 AGG shares is $23452.00\n"
     ]
    }
   ],
   "source": [
    "# Print current value of share\n",
    "print(f\"The current value of your {my_spy} SPY shares is ${my_spy_value:0.2f}\")\n",
    "print(f\"The current value of your {my_agg} AGG shares is ${my_agg_value:0.2f}\")"
   ]
  },
  {
   "cell_type": "markdown",
   "metadata": {},
   "source": [
    "### Savings Health Analysis"
   ]
  },
  {
   "cell_type": "code",
   "execution_count": 27,
   "metadata": {},
   "outputs": [
    {
     "data": {
      "text/plain": [
       "46082.759"
      ]
     },
     "execution_count": 27,
     "metadata": {},
     "output_type": "execute_result"
    }
   ],
   "source": [
    "# Set monthly household income\n",
    "# YOUR CODE HERE!\n",
    "monthly_income = 12000\n",
    "\n",
    "# Total amount of crypto assets amount\n",
    "crypto_amount = my_btc_value + my_eth_value\n",
    "crypto_amount"
   ]
  },
  {
   "cell_type": "code",
   "execution_count": 28,
   "metadata": {},
   "outputs": [
    {
     "data": {
      "text/plain": [
       "42595.0"
      ]
     },
     "execution_count": 28,
     "metadata": {},
     "output_type": "execute_result"
    }
   ],
   "source": [
    "# Total amount of crypto assets shares\n",
    "Inv_shares = my_agg_value + my_spy_value\n",
    "Inv_shares"
   ]
  },
  {
   "cell_type": "code",
   "execution_count": 29,
   "metadata": {},
   "outputs": [
    {
     "data": {
      "text/html": [
       "<div>\n",
       "<style scoped>\n",
       "    .dataframe tbody tr th:only-of-type {\n",
       "        vertical-align: middle;\n",
       "    }\n",
       "\n",
       "    .dataframe tbody tr th {\n",
       "        vertical-align: top;\n",
       "    }\n",
       "\n",
       "    .dataframe thead th {\n",
       "        text-align: right;\n",
       "    }\n",
       "</style>\n",
       "<table border=\"1\" class=\"dataframe\">\n",
       "  <thead>\n",
       "    <tr style=\"text-align: right;\">\n",
       "      <th></th>\n",
       "      <th>amount</th>\n",
       "    </tr>\n",
       "  </thead>\n",
       "  <tbody>\n",
       "    <tr>\n",
       "      <th>crypto</th>\n",
       "      <td>46082.759</td>\n",
       "    </tr>\n",
       "    <tr>\n",
       "      <th>shares</th>\n",
       "      <td>42595.000</td>\n",
       "    </tr>\n",
       "  </tbody>\n",
       "</table>\n",
       "</div>"
      ],
      "text/plain": [
       "           amount\n",
       "crypto  46082.759\n",
       "shares  42595.000"
      ]
     },
     "metadata": {},
     "output_type": "display_data"
    }
   ],
   "source": [
    "# Create savings DataFrame\n",
    "# YOUR CODE HERE!\n",
    "health_savings = {\"amount\":[crypto_amount, Inv_shares]}\n",
    "savings_label = [\"crypto\", \"shares\"]\n",
    "\n",
    "health_df_savings = pd.DataFrame(health_savings, index=savings_label)\n",
    "\n",
    "# Display savings DataFrame\n",
    "display(health_df_savings)"
   ]
  },
  {
   "cell_type": "code",
   "execution_count": 30,
   "metadata": {},
   "outputs": [
    {
     "data": {
      "text/plain": [
       "<AxesSubplot:title={'center':'Crypto Amount for Health Savings'}, ylabel='amount'>"
      ]
     },
     "execution_count": 30,
     "metadata": {},
     "output_type": "execute_result"
    },
    {
     "data": {
      "image/png": "[encoded data removed]",
      "text/plain": [
       "<Figure size 432x288 with 1 Axes>"
      ]
     },
     "metadata": {},
     "output_type": "display_data"
    }
   ],
   "source": [
    "# Plot savings pie chart\n",
    "# YOUR CODE HERE!\n",
    "health_df_savings.plot.pie(y=\"amount\", title=\"Crypto Amount for Health Savings\")"
   ]
  },
  {
   "cell_type": "code",
   "execution_count": 31,
   "metadata": {},
   "outputs": [
    {
     "data": {
      "text/plain": [
       "36000"
      ]
     },
     "execution_count": 31,
     "metadata": {},
     "output_type": "execute_result"
    }
   ],
   "source": [
    "# Set ideal emergency fund\n",
    "emergency_fund = monthly_income * 3\n",
    "emergency_fund"
   ]
  },
  {
   "cell_type": "code",
   "execution_count": 32,
   "metadata": {},
   "outputs": [
    {
     "data": {
      "text/plain": [
       "88677.75899999999"
      ]
     },
     "execution_count": 32,
     "metadata": {},
     "output_type": "execute_result"
    }
   ],
   "source": [
    "# Calculate total amount of savings\n",
    "# YOUR CODE HERE!\n",
    "Total_amount_savings = crypto_amount + Inv_shares\n",
    "Total_amount_savings"
   ]
  },
  {
   "cell_type": "code",
   "execution_count": 33,
   "metadata": {},
   "outputs": [
    {
     "data": {
      "text/plain": [
       "52677.75899999999"
      ]
     },
     "execution_count": 33,
     "metadata": {},
     "output_type": "execute_result"
    }
   ],
   "source": [
    "Need_more_money = Total_amount_savings - emergency_fund\n",
    "Need_more_money"
   ]
  },
  {
   "cell_type": "code",
   "execution_count": 34,
   "metadata": {},
   "outputs": [
    {
     "name": "stdout",
     "output_type": "stream",
     "text": [
      "Congratulations you have enough money in this fund\n"
     ]
    }
   ],
   "source": [
    "# Validate saving health\n",
    "# YOUR CODE HERE!\n",
    "\n",
    "if Total_amount_savings > emergency_fund:\n",
    "    print(\"Congratulations you have enough money in this fund\")\n",
    "elif Total_amount_savings == emergency_fund:\n",
    "    print(\"Congratulations on reaching this financial goal\")\n",
    "else:\n",
    "    print(f\"You are {Need_more_money} short from reaching this goal\")"
   ]
  },
  {
   "cell_type": "markdown",
   "metadata": {},
   "source": [
    "## Part 2 - Retirement Planning\n",
    "\n",
    "### Monte Carlo Simulation"
   ]
  },
  {
   "cell_type": "code",
   "execution_count": 35,
   "metadata": {},
   "outputs": [],
   "source": [
    "alpaca_api_key = os.getenv(\"Alpaca_API_Key\")\n",
    "alpaca_secret_key = os.getenv(\"Alpaca_Secret_Key\")"
   ]
  },
  {
   "cell_type": "code",
   "execution_count": 36,
   "metadata": {},
   "outputs": [
    {
     "name": "stdout",
     "output_type": "stream",
     "text": [
      "Alpaca Key type: <class 'str'>\n",
      "Alpaca Secret Key type: <class 'str'>\n"
     ]
    }
   ],
   "source": [
    "print(f\"Alpaca Key type: {type(alpaca_api_key)}\")\n",
    "print(f\"Alpaca Secret Key type: {type(alpaca_secret_key)}\")"
   ]
  },
  {
   "cell_type": "code",
   "execution_count": 37,
   "metadata": {},
   "outputs": [],
   "source": [
    "api = tradeapi.REST(\n",
    "    alpaca_api_key,\n",
    "    alpaca_secret_key,\n",
    "    api_version=\"v2\")"
   ]
  },
  {
   "cell_type": "code",
   "execution_count": 38,
   "metadata": {},
   "outputs": [],
   "source": [
    "# Set start and end dates of five years back from today.\n",
    "# Sample results may vary from the solution based on the time frame chosen\n",
    "start_date = pd.Timestamp('2015-08-07', tz='America/New_York').isoformat()\n",
    "end_date = pd.Timestamp('2020-08-07', tz='America/New_York').isoformat()"
   ]
  },
  {
   "cell_type": "code",
   "execution_count": 39,
   "metadata": {},
   "outputs": [],
   "source": [
    "MC_tickers = [\"SPY\", \"AGG\"]"
   ]
  },
  {
   "cell_type": "code",
   "execution_count": 40,
   "metadata": {},
   "outputs": [],
   "source": [
    "timeframe = \"1D\""
   ]
  },
  {
   "cell_type": "code",
   "execution_count": 41,
   "metadata": {},
   "outputs": [],
   "source": [
    "# Get 5 years' worth of historical data for SPY and AGG\n",
    "# YOUR CODE HERE!\n",
    "MC_ticker = api.get_barset(\n",
    "    tickers,\n",
    "    timeframe,\n",
    "    start=start_date,\n",
    "    end=end_date\n",
    ").df"
   ]
  },
  {
   "cell_type": "code",
   "execution_count": 42,
   "metadata": {},
   "outputs": [
    {
     "data": {
      "text/html": [
       "<div>\n",
       "<style scoped>\n",
       "    .dataframe tbody tr th:only-of-type {\n",
       "        vertical-align: middle;\n",
       "    }\n",
       "\n",
       "    .dataframe tbody tr th {\n",
       "        vertical-align: top;\n",
       "    }\n",
       "\n",
       "    .dataframe thead tr th {\n",
       "        text-align: left;\n",
       "    }\n",
       "\n",
       "    .dataframe thead tr:last-of-type th {\n",
       "        text-align: right;\n",
       "    }\n",
       "</style>\n",
       "<table border=\"1\" class=\"dataframe\">\n",
       "  <thead>\n",
       "    <tr>\n",
       "      <th></th>\n",
       "      <th colspan=\"5\" halign=\"left\">AGG</th>\n",
       "      <th colspan=\"5\" halign=\"left\">SPY</th>\n",
       "    </tr>\n",
       "    <tr>\n",
       "      <th></th>\n",
       "      <th>open</th>\n",
       "      <th>high</th>\n",
       "      <th>low</th>\n",
       "      <th>close</th>\n",
       "      <th>volume</th>\n",
       "      <th>open</th>\n",
       "      <th>high</th>\n",
       "      <th>low</th>\n",
       "      <th>close</th>\n",
       "      <th>volume</th>\n",
       "    </tr>\n",
       "    <tr>\n",
       "      <th>time</th>\n",
       "      <th></th>\n",
       "      <th></th>\n",
       "      <th></th>\n",
       "      <th></th>\n",
       "      <th></th>\n",
       "      <th></th>\n",
       "      <th></th>\n",
       "      <th></th>\n",
       "      <th></th>\n",
       "      <th></th>\n",
       "    </tr>\n",
       "  </thead>\n",
       "  <tbody>\n",
       "    <tr>\n",
       "      <th>2015-08-07 00:00:00-04:00</th>\n",
       "      <td>109.14</td>\n",
       "      <td>109.2750</td>\n",
       "      <td>109.035</td>\n",
       "      <td>109.21</td>\n",
       "      <td>2041167.0</td>\n",
       "      <td>208.16</td>\n",
       "      <td>208.34</td>\n",
       "      <td>206.87</td>\n",
       "      <td>207.93</td>\n",
       "      <td>87669782</td>\n",
       "    </tr>\n",
       "    <tr>\n",
       "      <th>2015-08-10 00:00:00-04:00</th>\n",
       "      <td>109.15</td>\n",
       "      <td>109.1700</td>\n",
       "      <td>108.920</td>\n",
       "      <td>109.06</td>\n",
       "      <td>1149778.0</td>\n",
       "      <td>209.28</td>\n",
       "      <td>210.67</td>\n",
       "      <td>209.28</td>\n",
       "      <td>210.58</td>\n",
       "      <td>66755890</td>\n",
       "    </tr>\n",
       "    <tr>\n",
       "      <th>2015-08-11 00:00:00-04:00</th>\n",
       "      <td>109.42</td>\n",
       "      <td>109.5765</td>\n",
       "      <td>109.284</td>\n",
       "      <td>109.42</td>\n",
       "      <td>1420907.0</td>\n",
       "      <td>208.98</td>\n",
       "      <td>209.47</td>\n",
       "      <td>207.76</td>\n",
       "      <td>208.63</td>\n",
       "      <td>88424557</td>\n",
       "    </tr>\n",
       "    <tr>\n",
       "      <th>2015-08-12 00:00:00-04:00</th>\n",
       "      <td>109.55</td>\n",
       "      <td>109.7100</td>\n",
       "      <td>109.350</td>\n",
       "      <td>109.36</td>\n",
       "      <td>1468979.0</td>\n",
       "      <td>207.11</td>\n",
       "      <td>209.14</td>\n",
       "      <td>205.36</td>\n",
       "      <td>208.89</td>\n",
       "      <td>136171450</td>\n",
       "    </tr>\n",
       "    <tr>\n",
       "      <th>2015-08-13 00:00:00-04:00</th>\n",
       "      <td>109.36</td>\n",
       "      <td>109.3651</td>\n",
       "      <td>109.110</td>\n",
       "      <td>109.15</td>\n",
       "      <td>1465173.0</td>\n",
       "      <td>208.73</td>\n",
       "      <td>209.55</td>\n",
       "      <td>208.01</td>\n",
       "      <td>208.63</td>\n",
       "      <td>77197796</td>\n",
       "    </tr>\n",
       "  </tbody>\n",
       "</table>\n",
       "</div>"
      ],
      "text/plain": [
       "                              AGG                                        \\\n",
       "                             open      high      low   close     volume   \n",
       "time                                                                      \n",
       "2015-08-07 00:00:00-04:00  109.14  109.2750  109.035  109.21  2041167.0   \n",
       "2015-08-10 00:00:00-04:00  109.15  109.1700  108.920  109.06  1149778.0   \n",
       "2015-08-11 00:00:00-04:00  109.42  109.5765  109.284  109.42  1420907.0   \n",
       "2015-08-12 00:00:00-04:00  109.55  109.7100  109.350  109.36  1468979.0   \n",
       "2015-08-13 00:00:00-04:00  109.36  109.3651  109.110  109.15  1465173.0   \n",
       "\n",
       "                              SPY                                     \n",
       "                             open    high     low   close     volume  \n",
       "time                                                                  \n",
       "2015-08-07 00:00:00-04:00  208.16  208.34  206.87  207.93   87669782  \n",
       "2015-08-10 00:00:00-04:00  209.28  210.67  209.28  210.58   66755890  \n",
       "2015-08-11 00:00:00-04:00  208.98  209.47  207.76  208.63   88424557  \n",
       "2015-08-12 00:00:00-04:00  207.11  209.14  205.36  208.89  136171450  \n",
       "2015-08-13 00:00:00-04:00  208.73  209.55  208.01  208.63   77197796  "
      ]
     },
     "execution_count": 42,
     "metadata": {},
     "output_type": "execute_result"
    }
   ],
   "source": [
    "# Display sample data\n",
    "MC_ticker.head()"
   ]
  },
  {
   "cell_type": "code",
   "execution_count": 43,
   "metadata": {},
   "outputs": [],
   "source": [
    "# Configuring a Monte Carlo simulation to forecast 30 years cumulative returns\n",
    "# YOUR CODE HERE!\n",
    "MC_30year = MCSimulation(\n",
    "    portfolio_data = MC_ticker,\n",
    "    weights = [.60,.40],\n",
    "    num_simulation = 500,\n",
    "    num_trading_days = 252*30\n",
    ")"
   ]
  },
  {
   "cell_type": "code",
   "execution_count": 44,
   "metadata": {},
   "outputs": [
    {
     "data": {
      "text/html": [
       "<div>\n",
       "<style scoped>\n",
       "    .dataframe tbody tr th:only-of-type {\n",
       "        vertical-align: middle;\n",
       "    }\n",
       "\n",
       "    .dataframe tbody tr th {\n",
       "        vertical-align: top;\n",
       "    }\n",
       "\n",
       "    .dataframe thead tr th {\n",
       "        text-align: left;\n",
       "    }\n",
       "\n",
       "    .dataframe thead tr:last-of-type th {\n",
       "        text-align: right;\n",
       "    }\n",
       "</style>\n",
       "<table border=\"1\" class=\"dataframe\">\n",
       "  <thead>\n",
       "    <tr>\n",
       "      <th></th>\n",
       "      <th colspan=\"6\" halign=\"left\">AGG</th>\n",
       "      <th colspan=\"6\" halign=\"left\">SPY</th>\n",
       "    </tr>\n",
       "    <tr>\n",
       "      <th></th>\n",
       "      <th>open</th>\n",
       "      <th>high</th>\n",
       "      <th>low</th>\n",
       "      <th>close</th>\n",
       "      <th>volume</th>\n",
       "      <th>daily_return</th>\n",
       "      <th>open</th>\n",
       "      <th>high</th>\n",
       "      <th>low</th>\n",
       "      <th>close</th>\n",
       "      <th>volume</th>\n",
       "      <th>daily_return</th>\n",
       "    </tr>\n",
       "    <tr>\n",
       "      <th>time</th>\n",
       "      <th></th>\n",
       "      <th></th>\n",
       "      <th></th>\n",
       "      <th></th>\n",
       "      <th></th>\n",
       "      <th></th>\n",
       "      <th></th>\n",
       "      <th></th>\n",
       "      <th></th>\n",
       "      <th></th>\n",
       "      <th></th>\n",
       "      <th></th>\n",
       "    </tr>\n",
       "  </thead>\n",
       "  <tbody>\n",
       "    <tr>\n",
       "      <th>2015-08-07 00:00:00-04:00</th>\n",
       "      <td>109.14</td>\n",
       "      <td>109.2750</td>\n",
       "      <td>109.0350</td>\n",
       "      <td>109.210</td>\n",
       "      <td>2041167.0</td>\n",
       "      <td>NaN</td>\n",
       "      <td>208.1600</td>\n",
       "      <td>208.34</td>\n",
       "      <td>206.87</td>\n",
       "      <td>207.93</td>\n",
       "      <td>87669782</td>\n",
       "      <td>NaN</td>\n",
       "    </tr>\n",
       "    <tr>\n",
       "      <th>2015-08-10 00:00:00-04:00</th>\n",
       "      <td>109.15</td>\n",
       "      <td>109.1700</td>\n",
       "      <td>108.9200</td>\n",
       "      <td>109.060</td>\n",
       "      <td>1149778.0</td>\n",
       "      <td>-0.001374</td>\n",
       "      <td>209.2800</td>\n",
       "      <td>210.67</td>\n",
       "      <td>209.28</td>\n",
       "      <td>210.58</td>\n",
       "      <td>66755890</td>\n",
       "      <td>0.012745</td>\n",
       "    </tr>\n",
       "    <tr>\n",
       "      <th>2015-08-11 00:00:00-04:00</th>\n",
       "      <td>109.42</td>\n",
       "      <td>109.5765</td>\n",
       "      <td>109.2840</td>\n",
       "      <td>109.420</td>\n",
       "      <td>1420907.0</td>\n",
       "      <td>0.003301</td>\n",
       "      <td>208.9800</td>\n",
       "      <td>209.47</td>\n",
       "      <td>207.76</td>\n",
       "      <td>208.63</td>\n",
       "      <td>88424557</td>\n",
       "      <td>-0.009260</td>\n",
       "    </tr>\n",
       "    <tr>\n",
       "      <th>2015-08-12 00:00:00-04:00</th>\n",
       "      <td>109.55</td>\n",
       "      <td>109.7100</td>\n",
       "      <td>109.3500</td>\n",
       "      <td>109.360</td>\n",
       "      <td>1468979.0</td>\n",
       "      <td>-0.000548</td>\n",
       "      <td>207.1100</td>\n",
       "      <td>209.14</td>\n",
       "      <td>205.36</td>\n",
       "      <td>208.89</td>\n",
       "      <td>136171450</td>\n",
       "      <td>0.001246</td>\n",
       "    </tr>\n",
       "    <tr>\n",
       "      <th>2015-08-13 00:00:00-04:00</th>\n",
       "      <td>109.36</td>\n",
       "      <td>109.3651</td>\n",
       "      <td>109.1100</td>\n",
       "      <td>109.150</td>\n",
       "      <td>1465173.0</td>\n",
       "      <td>-0.001920</td>\n",
       "      <td>208.7300</td>\n",
       "      <td>209.55</td>\n",
       "      <td>208.01</td>\n",
       "      <td>208.63</td>\n",
       "      <td>77197796</td>\n",
       "      <td>-0.001245</td>\n",
       "    </tr>\n",
       "    <tr>\n",
       "      <th>...</th>\n",
       "      <td>...</td>\n",
       "      <td>...</td>\n",
       "      <td>...</td>\n",
       "      <td>...</td>\n",
       "      <td>...</td>\n",
       "      <td>...</td>\n",
       "      <td>...</td>\n",
       "      <td>...</td>\n",
       "      <td>...</td>\n",
       "      <td>...</td>\n",
       "      <td>...</td>\n",
       "      <td>...</td>\n",
       "    </tr>\n",
       "    <tr>\n",
       "      <th>2020-08-03 00:00:00-04:00</th>\n",
       "      <td>119.37</td>\n",
       "      <td>119.4000</td>\n",
       "      <td>119.1903</td>\n",
       "      <td>119.400</td>\n",
       "      <td>17837420.0</td>\n",
       "      <td>-0.001338</td>\n",
       "      <td>328.3200</td>\n",
       "      <td>329.62</td>\n",
       "      <td>327.73</td>\n",
       "      <td>328.76</td>\n",
       "      <td>71741125</td>\n",
       "      <td>0.006768</td>\n",
       "    </tr>\n",
       "    <tr>\n",
       "      <th>2020-08-04 00:00:00-04:00</th>\n",
       "      <td>119.42</td>\n",
       "      <td>119.6300</td>\n",
       "      <td>119.4200</td>\n",
       "      <td>119.630</td>\n",
       "      <td>21512268.0</td>\n",
       "      <td>0.001926</td>\n",
       "      <td>327.8600</td>\n",
       "      <td>330.06</td>\n",
       "      <td>327.86</td>\n",
       "      <td>330.03</td>\n",
       "      <td>73684427</td>\n",
       "      <td>0.003863</td>\n",
       "    </tr>\n",
       "    <tr>\n",
       "      <th>2020-08-05 00:00:00-04:00</th>\n",
       "      <td>119.39</td>\n",
       "      <td>119.4900</td>\n",
       "      <td>119.3100</td>\n",
       "      <td>119.400</td>\n",
       "      <td>34175883.0</td>\n",
       "      <td>-0.001923</td>\n",
       "      <td>331.4700</td>\n",
       "      <td>332.39</td>\n",
       "      <td>331.18</td>\n",
       "      <td>332.06</td>\n",
       "      <td>72846458</td>\n",
       "      <td>0.006151</td>\n",
       "    </tr>\n",
       "    <tr>\n",
       "      <th>2020-08-06 00:00:00-04:00</th>\n",
       "      <td>119.62</td>\n",
       "      <td>119.7300</td>\n",
       "      <td>119.5300</td>\n",
       "      <td>119.580</td>\n",
       "      <td>9009216.0</td>\n",
       "      <td>0.001508</td>\n",
       "      <td>331.4799</td>\n",
       "      <td>334.46</td>\n",
       "      <td>331.13</td>\n",
       "      <td>334.31</td>\n",
       "      <td>76900649</td>\n",
       "      <td>0.006776</td>\n",
       "    </tr>\n",
       "    <tr>\n",
       "      <th>2020-08-07 00:00:00-04:00</th>\n",
       "      <td>119.66</td>\n",
       "      <td>119.7300</td>\n",
       "      <td>119.3950</td>\n",
       "      <td>119.445</td>\n",
       "      <td>8830420.0</td>\n",
       "      <td>-0.001129</td>\n",
       "      <td>333.2800</td>\n",
       "      <td>334.88</td>\n",
       "      <td>332.30</td>\n",
       "      <td>334.55</td>\n",
       "      <td>98710236</td>\n",
       "      <td>0.000718</td>\n",
       "    </tr>\n",
       "  </tbody>\n",
       "</table>\n",
       "<p>1260 rows × 12 columns</p>\n",
       "</div>"
      ],
      "text/plain": [
       "                              AGG                                           \\\n",
       "                             open      high       low    close      volume   \n",
       "time                                                                         \n",
       "2015-08-07 00:00:00-04:00  109.14  109.2750  109.0350  109.210   2041167.0   \n",
       "2015-08-10 00:00:00-04:00  109.15  109.1700  108.9200  109.060   1149778.0   \n",
       "2015-08-11 00:00:00-04:00  109.42  109.5765  109.2840  109.420   1420907.0   \n",
       "2015-08-12 00:00:00-04:00  109.55  109.7100  109.3500  109.360   1468979.0   \n",
       "2015-08-13 00:00:00-04:00  109.36  109.3651  109.1100  109.150   1465173.0   \n",
       "...                           ...       ...       ...      ...         ...   \n",
       "2020-08-03 00:00:00-04:00  119.37  119.4000  119.1903  119.400  17837420.0   \n",
       "2020-08-04 00:00:00-04:00  119.42  119.6300  119.4200  119.630  21512268.0   \n",
       "2020-08-05 00:00:00-04:00  119.39  119.4900  119.3100  119.400  34175883.0   \n",
       "2020-08-06 00:00:00-04:00  119.62  119.7300  119.5300  119.580   9009216.0   \n",
       "2020-08-07 00:00:00-04:00  119.66  119.7300  119.3950  119.445   8830420.0   \n",
       "\n",
       "                                             SPY                          \\\n",
       "                          daily_return      open    high     low   close   \n",
       "time                                                                       \n",
       "2015-08-07 00:00:00-04:00          NaN  208.1600  208.34  206.87  207.93   \n",
       "2015-08-10 00:00:00-04:00    -0.001374  209.2800  210.67  209.28  210.58   \n",
       "2015-08-11 00:00:00-04:00     0.003301  208.9800  209.47  207.76  208.63   \n",
       "2015-08-12 00:00:00-04:00    -0.000548  207.1100  209.14  205.36  208.89   \n",
       "2015-08-13 00:00:00-04:00    -0.001920  208.7300  209.55  208.01  208.63   \n",
       "...                                ...       ...     ...     ...     ...   \n",
       "2020-08-03 00:00:00-04:00    -0.001338  328.3200  329.62  327.73  328.76   \n",
       "2020-08-04 00:00:00-04:00     0.001926  327.8600  330.06  327.86  330.03   \n",
       "2020-08-05 00:00:00-04:00    -0.001923  331.4700  332.39  331.18  332.06   \n",
       "2020-08-06 00:00:00-04:00     0.001508  331.4799  334.46  331.13  334.31   \n",
       "2020-08-07 00:00:00-04:00    -0.001129  333.2800  334.88  332.30  334.55   \n",
       "\n",
       "                                                   \n",
       "                              volume daily_return  \n",
       "time                                               \n",
       "2015-08-07 00:00:00-04:00   87669782          NaN  \n",
       "2015-08-10 00:00:00-04:00   66755890     0.012745  \n",
       "2015-08-11 00:00:00-04:00   88424557    -0.009260  \n",
       "2015-08-12 00:00:00-04:00  136171450     0.001246  \n",
       "2015-08-13 00:00:00-04:00   77197796    -0.001245  \n",
       "...                              ...          ...  \n",
       "2020-08-03 00:00:00-04:00   71741125     0.006768  \n",
       "2020-08-04 00:00:00-04:00   73684427     0.003863  \n",
       "2020-08-05 00:00:00-04:00   72846458     0.006151  \n",
       "2020-08-06 00:00:00-04:00   76900649     0.006776  \n",
       "2020-08-07 00:00:00-04:00   98710236     0.000718  \n",
       "\n",
       "[1260 rows x 12 columns]"
      ]
     },
     "execution_count": 44,
     "metadata": {},
     "output_type": "execute_result"
    }
   ],
   "source": [
    "# Printing the simulation input data\n",
    "# YOUR CODE HERE!\n",
    "MC_30year.portfolio_data"
   ]
  },
  {
   "cell_type": "code",
   "execution_count": 45,
   "metadata": {},
   "outputs": [
    {
     "name": "stdout",
     "output_type": "stream",
     "text": [
      "Running Monte Carlo simulation number 0.\n",
      "Running Monte Carlo simulation number 10.\n",
      "Running Monte Carlo simulation number 20.\n",
      "Running Monte Carlo simulation number 30.\n",
      "Running Monte Carlo simulation number 40.\n",
      "Running Monte Carlo simulation number 50.\n",
      "Running Monte Carlo simulation number 60.\n",
      "Running Monte Carlo simulation number 70.\n",
      "Running Monte Carlo simulation number 80.\n",
      "Running Monte Carlo simulation number 90.\n",
      "Running Monte Carlo simulation number 100.\n",
      "Running Monte Carlo simulation number 110.\n",
      "Running Monte Carlo simulation number 120.\n",
      "Running Monte Carlo simulation number 130.\n",
      "Running Monte Carlo simulation number 140.\n",
      "Running Monte Carlo simulation number 150.\n",
      "Running Monte Carlo simulation number 160.\n",
      "Running Monte Carlo simulation number 170.\n",
      "Running Monte Carlo simulation number 180.\n",
      "Running Monte Carlo simulation number 190.\n",
      "Running Monte Carlo simulation number 200.\n",
      "Running Monte Carlo simulation number 210.\n",
      "Running Monte Carlo simulation number 220.\n",
      "Running Monte Carlo simulation number 230.\n",
      "Running Monte Carlo simulation number 240.\n",
      "Running Monte Carlo simulation number 250.\n",
      "Running Monte Carlo simulation number 260.\n",
      "Running Monte Carlo simulation number 270.\n",
      "Running Monte Carlo simulation number 280.\n",
      "Running Monte Carlo simulation number 290.\n",
      "Running Monte Carlo simulation number 300.\n",
      "Running Monte Carlo simulation number 310.\n",
      "Running Monte Carlo simulation number 320.\n",
      "Running Monte Carlo simulation number 330.\n",
      "Running Monte Carlo simulation number 340.\n",
      "Running Monte Carlo simulation number 350.\n",
      "Running Monte Carlo simulation number 360.\n",
      "Running Monte Carlo simulation number 370.\n",
      "Running Monte Carlo simulation number 380.\n",
      "Running Monte Carlo simulation number 390.\n",
      "Running Monte Carlo simulation number 400.\n",
      "Running Monte Carlo simulation number 410.\n",
      "Running Monte Carlo simulation number 420.\n",
      "Running Monte Carlo simulation number 430.\n",
      "Running Monte Carlo simulation number 440.\n",
      "Running Monte Carlo simulation number 450.\n",
      "Running Monte Carlo simulation number 460.\n",
      "Running Monte Carlo simulation number 470.\n",
      "Running Monte Carlo simulation number 480.\n",
      "Running Monte Carlo simulation number 490.\n"
     ]
    },
    {
     "data": {
      "text/html": [
       "<div>\n",
       "<style scoped>\n",
       "    .dataframe tbody tr th:only-of-type {\n",
       "        vertical-align: middle;\n",
       "    }\n",
       "\n",
       "    .dataframe tbody tr th {\n",
       "        vertical-align: top;\n",
       "    }\n",
       "\n",
       "    .dataframe thead th {\n",
       "        text-align: right;\n",
       "    }\n",
       "</style>\n",
       "<table border=\"1\" class=\"dataframe\">\n",
       "  <thead>\n",
       "    <tr style=\"text-align: right;\">\n",
       "      <th></th>\n",
       "      <th>0</th>\n",
       "      <th>1</th>\n",
       "      <th>2</th>\n",
       "      <th>3</th>\n",
       "      <th>4</th>\n",
       "      <th>5</th>\n",
       "      <th>6</th>\n",
       "      <th>7</th>\n",
       "      <th>8</th>\n",
       "      <th>9</th>\n",
       "      <th>...</th>\n",
       "      <th>490</th>\n",
       "      <th>491</th>\n",
       "      <th>492</th>\n",
       "      <th>493</th>\n",
       "      <th>494</th>\n",
       "      <th>495</th>\n",
       "      <th>496</th>\n",
       "      <th>497</th>\n",
       "      <th>498</th>\n",
       "      <th>499</th>\n",
       "    </tr>\n",
       "  </thead>\n",
       "  <tbody>\n",
       "    <tr>\n",
       "      <th>0</th>\n",
       "      <td>1.000000</td>\n",
       "      <td>1.000000</td>\n",
       "      <td>1.000000</td>\n",
       "      <td>1.000000</td>\n",
       "      <td>1.000000</td>\n",
       "      <td>1.000000</td>\n",
       "      <td>1.000000</td>\n",
       "      <td>1.000000</td>\n",
       "      <td>1.000000</td>\n",
       "      <td>1.000000</td>\n",
       "      <td>...</td>\n",
       "      <td>1.000000</td>\n",
       "      <td>1.000000</td>\n",
       "      <td>1.000000</td>\n",
       "      <td>1.000000</td>\n",
       "      <td>1.000000</td>\n",
       "      <td>1.000000</td>\n",
       "      <td>1.000000</td>\n",
       "      <td>1.000000</td>\n",
       "      <td>1.000000</td>\n",
       "      <td>1.000000</td>\n",
       "    </tr>\n",
       "    <tr>\n",
       "      <th>1</th>\n",
       "      <td>0.993216</td>\n",
       "      <td>1.010437</td>\n",
       "      <td>1.009326</td>\n",
       "      <td>1.001521</td>\n",
       "      <td>1.006049</td>\n",
       "      <td>0.994331</td>\n",
       "      <td>0.994481</td>\n",
       "      <td>1.008974</td>\n",
       "      <td>1.008028</td>\n",
       "      <td>0.998611</td>\n",
       "      <td>...</td>\n",
       "      <td>1.001489</td>\n",
       "      <td>0.997594</td>\n",
       "      <td>1.000192</td>\n",
       "      <td>0.998989</td>\n",
       "      <td>1.002792</td>\n",
       "      <td>1.003359</td>\n",
       "      <td>0.994080</td>\n",
       "      <td>0.994521</td>\n",
       "      <td>0.991182</td>\n",
       "      <td>1.001835</td>\n",
       "    </tr>\n",
       "    <tr>\n",
       "      <th>2</th>\n",
       "      <td>0.997594</td>\n",
       "      <td>1.019433</td>\n",
       "      <td>1.006354</td>\n",
       "      <td>1.001227</td>\n",
       "      <td>1.010663</td>\n",
       "      <td>0.998207</td>\n",
       "      <td>0.996300</td>\n",
       "      <td>1.010495</td>\n",
       "      <td>1.014785</td>\n",
       "      <td>0.998788</td>\n",
       "      <td>...</td>\n",
       "      <td>1.012018</td>\n",
       "      <td>1.000468</td>\n",
       "      <td>1.000132</td>\n",
       "      <td>0.995655</td>\n",
       "      <td>1.003658</td>\n",
       "      <td>0.993936</td>\n",
       "      <td>0.996112</td>\n",
       "      <td>0.991832</td>\n",
       "      <td>0.994812</td>\n",
       "      <td>1.001333</td>\n",
       "    </tr>\n",
       "    <tr>\n",
       "      <th>3</th>\n",
       "      <td>0.999415</td>\n",
       "      <td>1.009925</td>\n",
       "      <td>1.009855</td>\n",
       "      <td>1.002845</td>\n",
       "      <td>1.006724</td>\n",
       "      <td>0.993621</td>\n",
       "      <td>0.991119</td>\n",
       "      <td>1.013133</td>\n",
       "      <td>1.013471</td>\n",
       "      <td>1.001525</td>\n",
       "      <td>...</td>\n",
       "      <td>1.018264</td>\n",
       "      <td>0.997445</td>\n",
       "      <td>0.998079</td>\n",
       "      <td>0.997727</td>\n",
       "      <td>1.002664</td>\n",
       "      <td>0.997784</td>\n",
       "      <td>1.004189</td>\n",
       "      <td>0.981804</td>\n",
       "      <td>0.992730</td>\n",
       "      <td>1.005077</td>\n",
       "    </tr>\n",
       "    <tr>\n",
       "      <th>4</th>\n",
       "      <td>0.989763</td>\n",
       "      <td>1.006090</td>\n",
       "      <td>1.012890</td>\n",
       "      <td>1.003262</td>\n",
       "      <td>1.003313</td>\n",
       "      <td>0.995576</td>\n",
       "      <td>0.991968</td>\n",
       "      <td>1.016434</td>\n",
       "      <td>1.009110</td>\n",
       "      <td>1.007807</td>\n",
       "      <td>...</td>\n",
       "      <td>1.015677</td>\n",
       "      <td>1.000187</td>\n",
       "      <td>1.001516</td>\n",
       "      <td>0.998868</td>\n",
       "      <td>1.002151</td>\n",
       "      <td>0.999925</td>\n",
       "      <td>1.005726</td>\n",
       "      <td>0.977518</td>\n",
       "      <td>0.988665</td>\n",
       "      <td>1.013282</td>\n",
       "    </tr>\n",
       "    <tr>\n",
       "      <th>...</th>\n",
       "      <td>...</td>\n",
       "      <td>...</td>\n",
       "      <td>...</td>\n",
       "      <td>...</td>\n",
       "      <td>...</td>\n",
       "      <td>...</td>\n",
       "      <td>...</td>\n",
       "      <td>...</td>\n",
       "      <td>...</td>\n",
       "      <td>...</td>\n",
       "      <td>...</td>\n",
       "      <td>...</td>\n",
       "      <td>...</td>\n",
       "      <td>...</td>\n",
       "      <td>...</td>\n",
       "      <td>...</td>\n",
       "      <td>...</td>\n",
       "      <td>...</td>\n",
       "      <td>...</td>\n",
       "      <td>...</td>\n",
       "      <td>...</td>\n",
       "    </tr>\n",
       "    <tr>\n",
       "      <th>7556</th>\n",
       "      <td>4.289686</td>\n",
       "      <td>3.312653</td>\n",
       "      <td>4.493776</td>\n",
       "      <td>4.375074</td>\n",
       "      <td>3.542528</td>\n",
       "      <td>5.440613</td>\n",
       "      <td>3.524554</td>\n",
       "      <td>10.282508</td>\n",
       "      <td>4.579820</td>\n",
       "      <td>5.365679</td>\n",
       "      <td>...</td>\n",
       "      <td>5.642565</td>\n",
       "      <td>5.217146</td>\n",
       "      <td>7.624962</td>\n",
       "      <td>5.894314</td>\n",
       "      <td>3.894429</td>\n",
       "      <td>8.028659</td>\n",
       "      <td>5.495018</td>\n",
       "      <td>2.971488</td>\n",
       "      <td>5.157913</td>\n",
       "      <td>11.362038</td>\n",
       "    </tr>\n",
       "    <tr>\n",
       "      <th>7557</th>\n",
       "      <td>4.304814</td>\n",
       "      <td>3.333041</td>\n",
       "      <td>4.460168</td>\n",
       "      <td>4.393815</td>\n",
       "      <td>3.545101</td>\n",
       "      <td>5.460541</td>\n",
       "      <td>3.533501</td>\n",
       "      <td>10.351474</td>\n",
       "      <td>4.591474</td>\n",
       "      <td>5.418879</td>\n",
       "      <td>...</td>\n",
       "      <td>5.674059</td>\n",
       "      <td>5.221150</td>\n",
       "      <td>7.706251</td>\n",
       "      <td>5.875796</td>\n",
       "      <td>3.896171</td>\n",
       "      <td>7.977539</td>\n",
       "      <td>5.506439</td>\n",
       "      <td>2.973828</td>\n",
       "      <td>5.169042</td>\n",
       "      <td>11.468782</td>\n",
       "    </tr>\n",
       "    <tr>\n",
       "      <th>7558</th>\n",
       "      <td>4.281705</td>\n",
       "      <td>3.392653</td>\n",
       "      <td>4.480268</td>\n",
       "      <td>4.373684</td>\n",
       "      <td>3.532676</td>\n",
       "      <td>5.393846</td>\n",
       "      <td>3.532899</td>\n",
       "      <td>10.357125</td>\n",
       "      <td>4.602701</td>\n",
       "      <td>5.414469</td>\n",
       "      <td>...</td>\n",
       "      <td>5.717584</td>\n",
       "      <td>5.237267</td>\n",
       "      <td>7.701543</td>\n",
       "      <td>5.848999</td>\n",
       "      <td>3.873545</td>\n",
       "      <td>7.960738</td>\n",
       "      <td>5.520289</td>\n",
       "      <td>2.972404</td>\n",
       "      <td>5.200465</td>\n",
       "      <td>11.273603</td>\n",
       "    </tr>\n",
       "    <tr>\n",
       "      <th>7559</th>\n",
       "      <td>4.273205</td>\n",
       "      <td>3.366391</td>\n",
       "      <td>4.502583</td>\n",
       "      <td>4.350299</td>\n",
       "      <td>3.558270</td>\n",
       "      <td>5.370101</td>\n",
       "      <td>3.539832</td>\n",
       "      <td>10.325934</td>\n",
       "      <td>4.635826</td>\n",
       "      <td>5.387096</td>\n",
       "      <td>...</td>\n",
       "      <td>5.692521</td>\n",
       "      <td>5.242295</td>\n",
       "      <td>7.759556</td>\n",
       "      <td>5.872027</td>\n",
       "      <td>3.851750</td>\n",
       "      <td>7.990406</td>\n",
       "      <td>5.518307</td>\n",
       "      <td>2.972267</td>\n",
       "      <td>5.171083</td>\n",
       "      <td>11.298103</td>\n",
       "    </tr>\n",
       "    <tr>\n",
       "      <th>7560</th>\n",
       "      <td>4.219631</td>\n",
       "      <td>3.366229</td>\n",
       "      <td>4.508184</td>\n",
       "      <td>4.371834</td>\n",
       "      <td>3.555976</td>\n",
       "      <td>5.378456</td>\n",
       "      <td>3.572937</td>\n",
       "      <td>10.295222</td>\n",
       "      <td>4.602633</td>\n",
       "      <td>5.351039</td>\n",
       "      <td>...</td>\n",
       "      <td>5.662402</td>\n",
       "      <td>5.264632</td>\n",
       "      <td>7.772680</td>\n",
       "      <td>5.876480</td>\n",
       "      <td>3.827391</td>\n",
       "      <td>7.964304</td>\n",
       "      <td>5.524446</td>\n",
       "      <td>2.987192</td>\n",
       "      <td>5.142587</td>\n",
       "      <td>11.284567</td>\n",
       "    </tr>\n",
       "  </tbody>\n",
       "</table>\n",
       "<p>7561 rows × 500 columns</p>\n",
       "</div>"
      ],
      "text/plain": [
       "           0         1         2         3         4         5         6    \\\n",
       "0     1.000000  1.000000  1.000000  1.000000  1.000000  1.000000  1.000000   \n",
       "1     0.993216  1.010437  1.009326  1.001521  1.006049  0.994331  0.994481   \n",
       "2     0.997594  1.019433  1.006354  1.001227  1.010663  0.998207  0.996300   \n",
       "3     0.999415  1.009925  1.009855  1.002845  1.006724  0.993621  0.991119   \n",
       "4     0.989763  1.006090  1.012890  1.003262  1.003313  0.995576  0.991968   \n",
       "...        ...       ...       ...       ...       ...       ...       ...   \n",
       "7556  4.289686  3.312653  4.493776  4.375074  3.542528  5.440613  3.524554   \n",
       "7557  4.304814  3.333041  4.460168  4.393815  3.545101  5.460541  3.533501   \n",
       "7558  4.281705  3.392653  4.480268  4.373684  3.532676  5.393846  3.532899   \n",
       "7559  4.273205  3.366391  4.502583  4.350299  3.558270  5.370101  3.539832   \n",
       "7560  4.219631  3.366229  4.508184  4.371834  3.555976  5.378456  3.572937   \n",
       "\n",
       "            7         8         9    ...       490       491       492  \\\n",
       "0      1.000000  1.000000  1.000000  ...  1.000000  1.000000  1.000000   \n",
       "1      1.008974  1.008028  0.998611  ...  1.001489  0.997594  1.000192   \n",
       "2      1.010495  1.014785  0.998788  ...  1.012018  1.000468  1.000132   \n",
       "3      1.013133  1.013471  1.001525  ...  1.018264  0.997445  0.998079   \n",
       "4      1.016434  1.009110  1.007807  ...  1.015677  1.000187  1.001516   \n",
       "...         ...       ...       ...  ...       ...       ...       ...   \n",
       "7556  10.282508  4.579820  5.365679  ...  5.642565  5.217146  7.624962   \n",
       "7557  10.351474  4.591474  5.418879  ...  5.674059  5.221150  7.706251   \n",
       "7558  10.357125  4.602701  5.414469  ...  5.717584  5.237267  7.701543   \n",
       "7559  10.325934  4.635826  5.387096  ...  5.692521  5.242295  7.759556   \n",
       "7560  10.295222  4.602633  5.351039  ...  5.662402  5.264632  7.772680   \n",
       "\n",
       "           493       494       495       496       497       498        499  \n",
       "0     1.000000  1.000000  1.000000  1.000000  1.000000  1.000000   1.000000  \n",
       "1     0.998989  1.002792  1.003359  0.994080  0.994521  0.991182   1.001835  \n",
       "2     0.995655  1.003658  0.993936  0.996112  0.991832  0.994812   1.001333  \n",
       "3     0.997727  1.002664  0.997784  1.004189  0.981804  0.992730   1.005077  \n",
       "4     0.998868  1.002151  0.999925  1.005726  0.977518  0.988665   1.013282  \n",
       "...        ...       ...       ...       ...       ...       ...        ...  \n",
       "7556  5.894314  3.894429  8.028659  5.495018  2.971488  5.157913  11.362038  \n",
       "7557  5.875796  3.896171  7.977539  5.506439  2.973828  5.169042  11.468782  \n",
       "7558  5.848999  3.873545  7.960738  5.520289  2.972404  5.200465  11.273603  \n",
       "7559  5.872027  3.851750  7.990406  5.518307  2.972267  5.171083  11.298103  \n",
       "7560  5.876480  3.827391  7.964304  5.524446  2.987192  5.142587  11.284567  \n",
       "\n",
       "[7561 rows x 500 columns]"
      ]
     },
     "execution_count": 45,
     "metadata": {},
     "output_type": "execute_result"
    }
   ],
   "source": [
    "# Running a Monte Carlo simulation to forecast 30 years cumulative returns\n",
    "# YOUR CODE HERE!\n",
    "MC_30year.calc_cumulative_return()"
   ]
  },
  {
   "cell_type": "code",
   "execution_count": 46,
   "metadata": {},
   "outputs": [
    {
     "data": {
      "image/png": "[encoded data removed]",
      "text/plain": [
       "<Figure size 432x288 with 1 Axes>"
      ]
     },
     "metadata": {
      "needs_background": "light"
     },
     "output_type": "display_data"
    }
   ],
   "source": [
    "# Plot simulation outcomes\n",
    "# YOUR CODE HERE!\n",
    "line_plot = MC_30year.plot_simulation()"
   ]
  },
  {
   "cell_type": "code",
   "execution_count": 47,
   "metadata": {},
   "outputs": [
    {
     "data": {
      "image/png": "[encoded data removed]",
      "text/plain": [
       "<Figure size 432x288 with 1 Axes>"
      ]
     },
     "metadata": {
      "needs_background": "light"
     },
     "output_type": "display_data"
    }
   ],
   "source": [
    "# Plot probability distribution and confidence intervals\n",
    "# YOUR CODE HERE!\n",
    "dist_plot = MC_30year.plot_distribution()"
   ]
  },
  {
   "cell_type": "markdown",
   "metadata": {},
   "source": [
    "### Retirement Analysis"
   ]
  },
  {
   "cell_type": "code",
   "execution_count": 48,
   "metadata": {},
   "outputs": [
    {
     "name": "stdout",
     "output_type": "stream",
     "text": [
      "count           500.000000\n",
      "mean              5.621843\n",
      "std               2.840901\n",
      "min               0.885464\n",
      "25%               3.669098\n",
      "50%               5.134754\n",
      "75%               6.669274\n",
      "max              21.628574\n",
      "95% CI Lower      2.148567\n",
      "95% CI Upper     13.526654\n",
      "Name: 7560, dtype: float64\n"
     ]
    }
   ],
   "source": [
    "# Fetch summary statistics from the Monte Carlo simulation results\n",
    "# YOUR CODE HERE!\n",
    "tbl = MC_30year.summarize_cumulative_return()\n",
    "# Print summary statistics\n",
    "# YOUR CODE HERE!\n",
    "print(tbl)"
   ]
  },
  {
   "cell_type": "markdown",
   "metadata": {},
   "source": [
    "### Calculate the expected portfolio return at the 95% lower and upper confidence intervals based on a `$20,000` initial investment."
   ]
  },
  {
   "cell_type": "code",
   "execution_count": 49,
   "metadata": {},
   "outputs": [
    {
     "name": "stdout",
     "output_type": "stream",
     "text": [
      "There is a 95% chance that an initial investment of $20000 in the portfolio over the next 30 years will end within in the range of $42971.34 and $270533.08\n"
     ]
    }
   ],
   "source": [
    "# Set initial investment\n",
    "initial_investment = 20000\n",
    "\n",
    "# Use the lower and upper `95%` confidence intervals to calculate the range of the possible outcomes of our $20,000\n",
    "# YOUR CODE HERE!\n",
    "ci_lower = round(tbl[8]*20000,2)\n",
    "ci_upper = round(tbl[9]*20000,2)\n",
    "\n",
    "# Print results\n",
    "print(f\"There is a 95% chance that an initial investment of ${initial_investment} in the portfolio\"\n",
    "      f\" over the next 30 years will end within in the range of\"\n",
    "      f\" ${ci_lower} and ${ci_upper}\")"
   ]
  },
  {
   "cell_type": "markdown",
   "metadata": {},
   "source": [
    "### Calculate the expected portfolio return at the `95%` lower and upper confidence intervals based on a `50%` increase in the initial investment."
   ]
  },
  {
   "cell_type": "code",
   "execution_count": 50,
   "metadata": {},
   "outputs": [
    {
     "name": "stdout",
     "output_type": "stream",
     "text": [
      "There is a 95% chance that an initial investment of $30000.0 in the portfolio over the next 30 years will end within in the range of $64457.02 and $405799.61\n"
     ]
    }
   ],
   "source": [
    "# Set initial investment\n",
    "initial_investment = 20000 * 1.5\n",
    "\n",
    "# Use the lower and upper `95%` confidence intervals to calculate the range of the possible outcomes of our $30,000\n",
    "# YOUR CODE HERE!\n",
    "ci_lower = round(tbl[8]*(20000*1.5),2)\n",
    "ci_upper = round(tbl[9]*(20000*1.5),2)\n",
    "\n",
    "# Print results\n",
    "print(f\"There is a 95% chance that an initial investment of ${initial_investment} in the portfolio\"\n",
    "      f\" over the next 30 years will end within in the range of\"\n",
    "      f\" ${ci_lower} and ${ci_upper}\")"
   ]
  },
  {
   "cell_type": "markdown",
   "metadata": {},
   "source": [
    "## Optional Challenge - Early Retirement\n",
    "\n",
    "\n",
    "### Five Years Retirement Option"
   ]
  },
  {
   "cell_type": "code",
   "execution_count": 51,
   "metadata": {},
   "outputs": [],
   "source": [
    "# Configuring a Monte Carlo simulation to forecast 5 years cumulative returns\n",
    "# YOUR CODE HERE!\n",
    "MC_5year = MCSimulation(\n",
    "    portfolio_data = MC_ticker,\n",
    "    weights = [.60,.40],\n",
    "    num_simulation = 500,\n",
    "    num_trading_days = 252*5\n",
    ")"
   ]
  },
  {
   "cell_type": "code",
   "execution_count": 52,
   "metadata": {},
   "outputs": [
    {
     "name": "stdout",
     "output_type": "stream",
     "text": [
      "Running Monte Carlo simulation number 0.\n",
      "Running Monte Carlo simulation number 10.\n",
      "Running Monte Carlo simulation number 20.\n",
      "Running Monte Carlo simulation number 30.\n",
      "Running Monte Carlo simulation number 40.\n",
      "Running Monte Carlo simulation number 50.\n",
      "Running Monte Carlo simulation number 60.\n",
      "Running Monte Carlo simulation number 70.\n",
      "Running Monte Carlo simulation number 80.\n",
      "Running Monte Carlo simulation number 90.\n",
      "Running Monte Carlo simulation number 100.\n",
      "Running Monte Carlo simulation number 110.\n",
      "Running Monte Carlo simulation number 120.\n",
      "Running Monte Carlo simulation number 130.\n",
      "Running Monte Carlo simulation number 140.\n",
      "Running Monte Carlo simulation number 150.\n",
      "Running Monte Carlo simulation number 160.\n",
      "Running Monte Carlo simulation number 170.\n",
      "Running Monte Carlo simulation number 180.\n",
      "Running Monte Carlo simulation number 190.\n",
      "Running Monte Carlo simulation number 200.\n",
      "Running Monte Carlo simulation number 210.\n",
      "Running Monte Carlo simulation number 220.\n",
      "Running Monte Carlo simulation number 230.\n",
      "Running Monte Carlo simulation number 240.\n",
      "Running Monte Carlo simulation number 250.\n",
      "Running Monte Carlo simulation number 260.\n",
      "Running Monte Carlo simulation number 270.\n",
      "Running Monte Carlo simulation number 280.\n",
      "Running Monte Carlo simulation number 290.\n",
      "Running Monte Carlo simulation number 300.\n",
      "Running Monte Carlo simulation number 310.\n",
      "Running Monte Carlo simulation number 320.\n",
      "Running Monte Carlo simulation number 330.\n",
      "Running Monte Carlo simulation number 340.\n",
      "Running Monte Carlo simulation number 350.\n",
      "Running Monte Carlo simulation number 360.\n",
      "Running Monte Carlo simulation number 370.\n",
      "Running Monte Carlo simulation number 380.\n",
      "Running Monte Carlo simulation number 390.\n",
      "Running Monte Carlo simulation number 400.\n",
      "Running Monte Carlo simulation number 410.\n",
      "Running Monte Carlo simulation number 420.\n",
      "Running Monte Carlo simulation number 430.\n",
      "Running Monte Carlo simulation number 440.\n",
      "Running Monte Carlo simulation number 450.\n",
      "Running Monte Carlo simulation number 460.\n",
      "Running Monte Carlo simulation number 470.\n",
      "Running Monte Carlo simulation number 480.\n",
      "Running Monte Carlo simulation number 490.\n"
     ]
    },
    {
     "data": {
      "text/html": [
       "<div>\n",
       "<style scoped>\n",
       "    .dataframe tbody tr th:only-of-type {\n",
       "        vertical-align: middle;\n",
       "    }\n",
       "\n",
       "    .dataframe tbody tr th {\n",
       "        vertical-align: top;\n",
       "    }\n",
       "\n",
       "    .dataframe thead th {\n",
       "        text-align: right;\n",
       "    }\n",
       "</style>\n",
       "<table border=\"1\" class=\"dataframe\">\n",
       "  <thead>\n",
       "    <tr style=\"text-align: right;\">\n",
       "      <th></th>\n",
       "      <th>0</th>\n",
       "      <th>1</th>\n",
       "      <th>2</th>\n",
       "      <th>3</th>\n",
       "      <th>4</th>\n",
       "      <th>5</th>\n",
       "      <th>6</th>\n",
       "      <th>7</th>\n",
       "      <th>8</th>\n",
       "      <th>9</th>\n",
       "      <th>...</th>\n",
       "      <th>490</th>\n",
       "      <th>491</th>\n",
       "      <th>492</th>\n",
       "      <th>493</th>\n",
       "      <th>494</th>\n",
       "      <th>495</th>\n",
       "      <th>496</th>\n",
       "      <th>497</th>\n",
       "      <th>498</th>\n",
       "      <th>499</th>\n",
       "    </tr>\n",
       "  </thead>\n",
       "  <tbody>\n",
       "    <tr>\n",
       "      <th>0</th>\n",
       "      <td>1.000000</td>\n",
       "      <td>1.000000</td>\n",
       "      <td>1.000000</td>\n",
       "      <td>1.000000</td>\n",
       "      <td>1.000000</td>\n",
       "      <td>1.000000</td>\n",
       "      <td>1.000000</td>\n",
       "      <td>1.000000</td>\n",
       "      <td>1.000000</td>\n",
       "      <td>1.000000</td>\n",
       "      <td>...</td>\n",
       "      <td>1.000000</td>\n",
       "      <td>1.000000</td>\n",
       "      <td>1.000000</td>\n",
       "      <td>1.000000</td>\n",
       "      <td>1.000000</td>\n",
       "      <td>1.000000</td>\n",
       "      <td>1.000000</td>\n",
       "      <td>1.000000</td>\n",
       "      <td>1.000000</td>\n",
       "      <td>1.000000</td>\n",
       "    </tr>\n",
       "    <tr>\n",
       "      <th>1</th>\n",
       "      <td>1.001853</td>\n",
       "      <td>1.003076</td>\n",
       "      <td>1.008569</td>\n",
       "      <td>1.003155</td>\n",
       "      <td>1.000112</td>\n",
       "      <td>1.000479</td>\n",
       "      <td>0.985313</td>\n",
       "      <td>1.001513</td>\n",
       "      <td>0.991121</td>\n",
       "      <td>1.005092</td>\n",
       "      <td>...</td>\n",
       "      <td>1.005179</td>\n",
       "      <td>1.000570</td>\n",
       "      <td>1.004622</td>\n",
       "      <td>1.005865</td>\n",
       "      <td>1.001417</td>\n",
       "      <td>1.008341</td>\n",
       "      <td>0.999048</td>\n",
       "      <td>1.008591</td>\n",
       "      <td>0.987990</td>\n",
       "      <td>0.996207</td>\n",
       "    </tr>\n",
       "    <tr>\n",
       "      <th>2</th>\n",
       "      <td>1.003725</td>\n",
       "      <td>1.003721</td>\n",
       "      <td>1.010840</td>\n",
       "      <td>1.001119</td>\n",
       "      <td>0.991484</td>\n",
       "      <td>1.009784</td>\n",
       "      <td>0.997857</td>\n",
       "      <td>1.000143</td>\n",
       "      <td>0.987087</td>\n",
       "      <td>1.000161</td>\n",
       "      <td>...</td>\n",
       "      <td>1.000933</td>\n",
       "      <td>1.008235</td>\n",
       "      <td>0.995870</td>\n",
       "      <td>1.007518</td>\n",
       "      <td>1.000459</td>\n",
       "      <td>1.019959</td>\n",
       "      <td>1.005651</td>\n",
       "      <td>1.000568</td>\n",
       "      <td>1.000754</td>\n",
       "      <td>0.999120</td>\n",
       "    </tr>\n",
       "    <tr>\n",
       "      <th>3</th>\n",
       "      <td>1.005157</td>\n",
       "      <td>0.997451</td>\n",
       "      <td>1.017439</td>\n",
       "      <td>1.005684</td>\n",
       "      <td>0.988947</td>\n",
       "      <td>1.011656</td>\n",
       "      <td>1.009712</td>\n",
       "      <td>1.003615</td>\n",
       "      <td>0.982898</td>\n",
       "      <td>0.997609</td>\n",
       "      <td>...</td>\n",
       "      <td>0.996681</td>\n",
       "      <td>1.013933</td>\n",
       "      <td>0.989284</td>\n",
       "      <td>1.010716</td>\n",
       "      <td>0.994524</td>\n",
       "      <td>1.020547</td>\n",
       "      <td>1.004945</td>\n",
       "      <td>1.000281</td>\n",
       "      <td>0.993728</td>\n",
       "      <td>0.992933</td>\n",
       "    </tr>\n",
       "    <tr>\n",
       "      <th>4</th>\n",
       "      <td>1.002782</td>\n",
       "      <td>0.998727</td>\n",
       "      <td>1.023110</td>\n",
       "      <td>1.003325</td>\n",
       "      <td>0.989257</td>\n",
       "      <td>1.019303</td>\n",
       "      <td>1.011461</td>\n",
       "      <td>1.007424</td>\n",
       "      <td>0.980264</td>\n",
       "      <td>0.993026</td>\n",
       "      <td>...</td>\n",
       "      <td>1.000624</td>\n",
       "      <td>1.016999</td>\n",
       "      <td>0.979330</td>\n",
       "      <td>1.006204</td>\n",
       "      <td>0.995435</td>\n",
       "      <td>1.021545</td>\n",
       "      <td>1.003517</td>\n",
       "      <td>0.996794</td>\n",
       "      <td>0.992081</td>\n",
       "      <td>0.994825</td>\n",
       "    </tr>\n",
       "    <tr>\n",
       "      <th>...</th>\n",
       "      <td>...</td>\n",
       "      <td>...</td>\n",
       "      <td>...</td>\n",
       "      <td>...</td>\n",
       "      <td>...</td>\n",
       "      <td>...</td>\n",
       "      <td>...</td>\n",
       "      <td>...</td>\n",
       "      <td>...</td>\n",
       "      <td>...</td>\n",
       "      <td>...</td>\n",
       "      <td>...</td>\n",
       "      <td>...</td>\n",
       "      <td>...</td>\n",
       "      <td>...</td>\n",
       "      <td>...</td>\n",
       "      <td>...</td>\n",
       "      <td>...</td>\n",
       "      <td>...</td>\n",
       "      <td>...</td>\n",
       "      <td>...</td>\n",
       "    </tr>\n",
       "    <tr>\n",
       "      <th>1256</th>\n",
       "      <td>1.554066</td>\n",
       "      <td>1.275143</td>\n",
       "      <td>1.204487</td>\n",
       "      <td>1.255784</td>\n",
       "      <td>1.095726</td>\n",
       "      <td>1.230514</td>\n",
       "      <td>1.107042</td>\n",
       "      <td>1.254873</td>\n",
       "      <td>1.297545</td>\n",
       "      <td>1.329755</td>\n",
       "      <td>...</td>\n",
       "      <td>0.948439</td>\n",
       "      <td>1.213451</td>\n",
       "      <td>1.372404</td>\n",
       "      <td>1.293196</td>\n",
       "      <td>1.181356</td>\n",
       "      <td>1.547637</td>\n",
       "      <td>1.216696</td>\n",
       "      <td>1.376073</td>\n",
       "      <td>1.320189</td>\n",
       "      <td>1.731706</td>\n",
       "    </tr>\n",
       "    <tr>\n",
       "      <th>1257</th>\n",
       "      <td>1.568182</td>\n",
       "      <td>1.271427</td>\n",
       "      <td>1.202604</td>\n",
       "      <td>1.256076</td>\n",
       "      <td>1.099830</td>\n",
       "      <td>1.230230</td>\n",
       "      <td>1.109989</td>\n",
       "      <td>1.245207</td>\n",
       "      <td>1.302642</td>\n",
       "      <td>1.341095</td>\n",
       "      <td>...</td>\n",
       "      <td>0.948667</td>\n",
       "      <td>1.212136</td>\n",
       "      <td>1.374599</td>\n",
       "      <td>1.292812</td>\n",
       "      <td>1.190648</td>\n",
       "      <td>1.541024</td>\n",
       "      <td>1.223389</td>\n",
       "      <td>1.380237</td>\n",
       "      <td>1.324460</td>\n",
       "      <td>1.735226</td>\n",
       "    </tr>\n",
       "    <tr>\n",
       "      <th>1258</th>\n",
       "      <td>1.562526</td>\n",
       "      <td>1.271361</td>\n",
       "      <td>1.204218</td>\n",
       "      <td>1.263500</td>\n",
       "      <td>1.094769</td>\n",
       "      <td>1.235739</td>\n",
       "      <td>1.114432</td>\n",
       "      <td>1.240332</td>\n",
       "      <td>1.302975</td>\n",
       "      <td>1.330418</td>\n",
       "      <td>...</td>\n",
       "      <td>0.948414</td>\n",
       "      <td>1.203106</td>\n",
       "      <td>1.357176</td>\n",
       "      <td>1.301545</td>\n",
       "      <td>1.192211</td>\n",
       "      <td>1.546167</td>\n",
       "      <td>1.214445</td>\n",
       "      <td>1.363680</td>\n",
       "      <td>1.329013</td>\n",
       "      <td>1.741017</td>\n",
       "    </tr>\n",
       "    <tr>\n",
       "      <th>1259</th>\n",
       "      <td>1.568551</td>\n",
       "      <td>1.261883</td>\n",
       "      <td>1.204439</td>\n",
       "      <td>1.260910</td>\n",
       "      <td>1.101837</td>\n",
       "      <td>1.233762</td>\n",
       "      <td>1.114676</td>\n",
       "      <td>1.238953</td>\n",
       "      <td>1.302635</td>\n",
       "      <td>1.329594</td>\n",
       "      <td>...</td>\n",
       "      <td>0.937300</td>\n",
       "      <td>1.206779</td>\n",
       "      <td>1.362030</td>\n",
       "      <td>1.301620</td>\n",
       "      <td>1.190431</td>\n",
       "      <td>1.533392</td>\n",
       "      <td>1.201956</td>\n",
       "      <td>1.364245</td>\n",
       "      <td>1.330023</td>\n",
       "      <td>1.747563</td>\n",
       "    </tr>\n",
       "    <tr>\n",
       "      <th>1260</th>\n",
       "      <td>1.555884</td>\n",
       "      <td>1.266334</td>\n",
       "      <td>1.198870</td>\n",
       "      <td>1.269812</td>\n",
       "      <td>1.099934</td>\n",
       "      <td>1.226405</td>\n",
       "      <td>1.113347</td>\n",
       "      <td>1.238748</td>\n",
       "      <td>1.292988</td>\n",
       "      <td>1.325825</td>\n",
       "      <td>...</td>\n",
       "      <td>0.938614</td>\n",
       "      <td>1.207329</td>\n",
       "      <td>1.361561</td>\n",
       "      <td>1.306498</td>\n",
       "      <td>1.196946</td>\n",
       "      <td>1.527539</td>\n",
       "      <td>1.203238</td>\n",
       "      <td>1.373916</td>\n",
       "      <td>1.333865</td>\n",
       "      <td>1.743347</td>\n",
       "    </tr>\n",
       "  </tbody>\n",
       "</table>\n",
       "<p>1261 rows × 500 columns</p>\n",
       "</div>"
      ],
      "text/plain": [
       "           0         1         2         3         4         5         6    \\\n",
       "0     1.000000  1.000000  1.000000  1.000000  1.000000  1.000000  1.000000   \n",
       "1     1.001853  1.003076  1.008569  1.003155  1.000112  1.000479  0.985313   \n",
       "2     1.003725  1.003721  1.010840  1.001119  0.991484  1.009784  0.997857   \n",
       "3     1.005157  0.997451  1.017439  1.005684  0.988947  1.011656  1.009712   \n",
       "4     1.002782  0.998727  1.023110  1.003325  0.989257  1.019303  1.011461   \n",
       "...        ...       ...       ...       ...       ...       ...       ...   \n",
       "1256  1.554066  1.275143  1.204487  1.255784  1.095726  1.230514  1.107042   \n",
       "1257  1.568182  1.271427  1.202604  1.256076  1.099830  1.230230  1.109989   \n",
       "1258  1.562526  1.271361  1.204218  1.263500  1.094769  1.235739  1.114432   \n",
       "1259  1.568551  1.261883  1.204439  1.260910  1.101837  1.233762  1.114676   \n",
       "1260  1.555884  1.266334  1.198870  1.269812  1.099934  1.226405  1.113347   \n",
       "\n",
       "           7         8         9    ...       490       491       492  \\\n",
       "0     1.000000  1.000000  1.000000  ...  1.000000  1.000000  1.000000   \n",
       "1     1.001513  0.991121  1.005092  ...  1.005179  1.000570  1.004622   \n",
       "2     1.000143  0.987087  1.000161  ...  1.000933  1.008235  0.995870   \n",
       "3     1.003615  0.982898  0.997609  ...  0.996681  1.013933  0.989284   \n",
       "4     1.007424  0.980264  0.993026  ...  1.000624  1.016999  0.979330   \n",
       "...        ...       ...       ...  ...       ...       ...       ...   \n",
       "1256  1.254873  1.297545  1.329755  ...  0.948439  1.213451  1.372404   \n",
       "1257  1.245207  1.302642  1.341095  ...  0.948667  1.212136  1.374599   \n",
       "1258  1.240332  1.302975  1.330418  ...  0.948414  1.203106  1.357176   \n",
       "1259  1.238953  1.302635  1.329594  ...  0.937300  1.206779  1.362030   \n",
       "1260  1.238748  1.292988  1.325825  ...  0.938614  1.207329  1.361561   \n",
       "\n",
       "           493       494       495       496       497       498       499  \n",
       "0     1.000000  1.000000  1.000000  1.000000  1.000000  1.000000  1.000000  \n",
       "1     1.005865  1.001417  1.008341  0.999048  1.008591  0.987990  0.996207  \n",
       "2     1.007518  1.000459  1.019959  1.005651  1.000568  1.000754  0.999120  \n",
       "3     1.010716  0.994524  1.020547  1.004945  1.000281  0.993728  0.992933  \n",
       "4     1.006204  0.995435  1.021545  1.003517  0.996794  0.992081  0.994825  \n",
       "...        ...       ...       ...       ...       ...       ...       ...  \n",
       "1256  1.293196  1.181356  1.547637  1.216696  1.376073  1.320189  1.731706  \n",
       "1257  1.292812  1.190648  1.541024  1.223389  1.380237  1.324460  1.735226  \n",
       "1258  1.301545  1.192211  1.546167  1.214445  1.363680  1.329013  1.741017  \n",
       "1259  1.301620  1.190431  1.533392  1.201956  1.364245  1.330023  1.747563  \n",
       "1260  1.306498  1.196946  1.527539  1.203238  1.373916  1.333865  1.743347  \n",
       "\n",
       "[1261 rows x 500 columns]"
      ]
     },
     "execution_count": 52,
     "metadata": {},
     "output_type": "execute_result"
    }
   ],
   "source": [
    "# Running a Monte Carlo simulation to forecast 5 years cumulative returns\n",
    "# YOUR CODE HERE!\n",
    "MC_5year.calc_cumulative_return()"
   ]
  },
  {
   "cell_type": "code",
   "execution_count": 53,
   "metadata": {},
   "outputs": [
    {
     "data": {
      "image/png": "[encoded data removed]",
      "text/plain": [
       "<Figure size 432x288 with 1 Axes>"
      ]
     },
     "metadata": {
      "needs_background": "light"
     },
     "output_type": "display_data"
    }
   ],
   "source": [
    "# Plot simulation outcomes\n",
    "# YOUR CODE HERE!\n",
    "line_plot = MC_5year.plot_simulation()"
   ]
  },
  {
   "cell_type": "code",
   "execution_count": 54,
   "metadata": {},
   "outputs": [
    {
     "data": {
      "image/png": "[encoded data removed]",
      "text/plain": [
       "<Figure size 432x288 with 1 Axes>"
      ]
     },
     "metadata": {
      "needs_background": "light"
     },
     "output_type": "display_data"
    }
   ],
   "source": [
    "# Plot probability distribution and confidence intervals\n",
    "# YOUR CODE HERE!\n",
    "dist_plot = MC_5year.plot_distribution()"
   ]
  },
  {
   "cell_type": "code",
   "execution_count": 55,
   "metadata": {},
   "outputs": [
    {
     "name": "stdout",
     "output_type": "stream",
     "text": [
      "count           500.000000\n",
      "mean              1.329252\n",
      "std               0.242313\n",
      "min               0.638458\n",
      "25%               1.163449\n",
      "50%               1.315583\n",
      "75%               1.489346\n",
      "max               1.968446\n",
      "95% CI Lower      0.910459\n",
      "95% CI Upper      1.865402\n",
      "Name: 1260, dtype: float64\n"
     ]
    }
   ],
   "source": [
    "# Fetch summary statistics from the Monte Carlo simulation results\n",
    "# YOUR CODE HERE!\n",
    "tbl5 = MC_5year.summarize_cumulative_return()\n",
    "# Print summary statistics\n",
    "# YOUR CODE HERE!\n",
    "print(tbl5)"
   ]
  },
  {
   "cell_type": "code",
   "execution_count": 56,
   "metadata": {},
   "outputs": [
    {
     "name": "stdout",
     "output_type": "stream",
     "text": [
      "There is a 95% chance that an initial investment of $20000 in the portfolio over the next 5 years will end within in the range of $18209.18 and $37308.05\n"
     ]
    }
   ],
   "source": [
    "# Set initial investment\n",
    "# YOUR CODE HERE!\n",
    "initial_investment = 20000\n",
    "\n",
    "# Use the lower and upper `95%` confidence intervals to calculate the range of the possible outcomes of our $60,000\n",
    "# YOUR CODE HERE!\n",
    "ci_lower_five = round(tbl5[8]*20000,2)\n",
    "ci_upper_five = round(tbl5[9]*20000,2)\n",
    "\n",
    "# Print results\n",
    "print(f\"There is a 95% chance that an initial investment of ${initial_investment} in the portfolio\"\n",
    "      f\" over the next 5 years will end within in the range of\"\n",
    "      f\" ${ci_lower_five} and ${ci_upper_five}\")"
   ]
  },
  {
   "cell_type": "markdown",
   "metadata": {},
   "source": [
    "### Ten Years Retirement Option"
   ]
  },
  {
   "cell_type": "code",
   "execution_count": 57,
   "metadata": {},
   "outputs": [],
   "source": [
    "# Configuring a Monte Carlo simulation to forecast 10 years cumulative returns\n",
    "# YOUR CODE HERE!\n",
    "MC_10year = MCSimulation(\n",
    "    portfolio_data = MC_ticker,\n",
    "    weights = [.60,.40],\n",
    "    num_simulation = 500,\n",
    "    num_trading_days = 252*10\n",
    ")"
   ]
  },
  {
   "cell_type": "code",
   "execution_count": 58,
   "metadata": {},
   "outputs": [
    {
     "name": "stdout",
     "output_type": "stream",
     "text": [
      "Running Monte Carlo simulation number 0.\n",
      "Running Monte Carlo simulation number 10.\n",
      "Running Monte Carlo simulation number 20.\n",
      "Running Monte Carlo simulation number 30.\n",
      "Running Monte Carlo simulation number 40.\n",
      "Running Monte Carlo simulation number 50.\n",
      "Running Monte Carlo simulation number 60.\n",
      "Running Monte Carlo simulation number 70.\n",
      "Running Monte Carlo simulation number 80.\n",
      "Running Monte Carlo simulation number 90.\n",
      "Running Monte Carlo simulation number 100.\n",
      "Running Monte Carlo simulation number 110.\n",
      "Running Monte Carlo simulation number 120.\n",
      "Running Monte Carlo simulation number 130.\n",
      "Running Monte Carlo simulation number 140.\n",
      "Running Monte Carlo simulation number 150.\n",
      "Running Monte Carlo simulation number 160.\n",
      "Running Monte Carlo simulation number 170.\n",
      "Running Monte Carlo simulation number 180.\n",
      "Running Monte Carlo simulation number 190.\n",
      "Running Monte Carlo simulation number 200.\n",
      "Running Monte Carlo simulation number 210.\n",
      "Running Monte Carlo simulation number 220.\n",
      "Running Monte Carlo simulation number 230.\n",
      "Running Monte Carlo simulation number 240.\n",
      "Running Monte Carlo simulation number 250.\n",
      "Running Monte Carlo simulation number 260.\n",
      "Running Monte Carlo simulation number 270.\n",
      "Running Monte Carlo simulation number 280.\n",
      "Running Monte Carlo simulation number 290.\n",
      "Running Monte Carlo simulation number 300.\n",
      "Running Monte Carlo simulation number 310.\n",
      "Running Monte Carlo simulation number 320.\n",
      "Running Monte Carlo simulation number 330.\n",
      "Running Monte Carlo simulation number 340.\n",
      "Running Monte Carlo simulation number 350.\n",
      "Running Monte Carlo simulation number 360.\n",
      "Running Monte Carlo simulation number 370.\n",
      "Running Monte Carlo simulation number 380.\n",
      "Running Monte Carlo simulation number 390.\n",
      "Running Monte Carlo simulation number 400.\n",
      "Running Monte Carlo simulation number 410.\n",
      "Running Monte Carlo simulation number 420.\n",
      "Running Monte Carlo simulation number 430.\n",
      "Running Monte Carlo simulation number 440.\n",
      "Running Monte Carlo simulation number 450.\n",
      "Running Monte Carlo simulation number 460.\n",
      "Running Monte Carlo simulation number 470.\n",
      "Running Monte Carlo simulation number 480.\n",
      "Running Monte Carlo simulation number 490.\n"
     ]
    },
    {
     "data": {
      "text/html": [
       "<div>\n",
       "<style scoped>\n",
       "    .dataframe tbody tr th:only-of-type {\n",
       "        vertical-align: middle;\n",
       "    }\n",
       "\n",
       "    .dataframe tbody tr th {\n",
       "        vertical-align: top;\n",
       "    }\n",
       "\n",
       "    .dataframe thead th {\n",
       "        text-align: right;\n",
       "    }\n",
       "</style>\n",
       "<table border=\"1\" class=\"dataframe\">\n",
       "  <thead>\n",
       "    <tr style=\"text-align: right;\">\n",
       "      <th></th>\n",
       "      <th>0</th>\n",
       "      <th>1</th>\n",
       "      <th>2</th>\n",
       "      <th>3</th>\n",
       "      <th>4</th>\n",
       "      <th>5</th>\n",
       "      <th>6</th>\n",
       "      <th>7</th>\n",
       "      <th>8</th>\n",
       "      <th>9</th>\n",
       "      <th>...</th>\n",
       "      <th>490</th>\n",
       "      <th>491</th>\n",
       "      <th>492</th>\n",
       "      <th>493</th>\n",
       "      <th>494</th>\n",
       "      <th>495</th>\n",
       "      <th>496</th>\n",
       "      <th>497</th>\n",
       "      <th>498</th>\n",
       "      <th>499</th>\n",
       "    </tr>\n",
       "  </thead>\n",
       "  <tbody>\n",
       "    <tr>\n",
       "      <th>0</th>\n",
       "      <td>1.000000</td>\n",
       "      <td>1.000000</td>\n",
       "      <td>1.000000</td>\n",
       "      <td>1.000000</td>\n",
       "      <td>1.000000</td>\n",
       "      <td>1.000000</td>\n",
       "      <td>1.000000</td>\n",
       "      <td>1.000000</td>\n",
       "      <td>1.000000</td>\n",
       "      <td>1.000000</td>\n",
       "      <td>...</td>\n",
       "      <td>1.000000</td>\n",
       "      <td>1.000000</td>\n",
       "      <td>1.000000</td>\n",
       "      <td>1.000000</td>\n",
       "      <td>1.000000</td>\n",
       "      <td>1.000000</td>\n",
       "      <td>1.000000</td>\n",
       "      <td>1.000000</td>\n",
       "      <td>1.000000</td>\n",
       "      <td>1.000000</td>\n",
       "    </tr>\n",
       "    <tr>\n",
       "      <th>1</th>\n",
       "      <td>0.997343</td>\n",
       "      <td>1.002418</td>\n",
       "      <td>1.006125</td>\n",
       "      <td>1.006461</td>\n",
       "      <td>0.999591</td>\n",
       "      <td>0.996574</td>\n",
       "      <td>1.000550</td>\n",
       "      <td>1.007902</td>\n",
       "      <td>0.991643</td>\n",
       "      <td>1.006267</td>\n",
       "      <td>...</td>\n",
       "      <td>1.002357</td>\n",
       "      <td>1.001690</td>\n",
       "      <td>0.993996</td>\n",
       "      <td>1.003134</td>\n",
       "      <td>0.999475</td>\n",
       "      <td>1.000110</td>\n",
       "      <td>1.012933</td>\n",
       "      <td>1.000697</td>\n",
       "      <td>1.001918</td>\n",
       "      <td>1.001103</td>\n",
       "    </tr>\n",
       "    <tr>\n",
       "      <th>2</th>\n",
       "      <td>1.001601</td>\n",
       "      <td>1.006886</td>\n",
       "      <td>1.007097</td>\n",
       "      <td>1.009709</td>\n",
       "      <td>1.001150</td>\n",
       "      <td>0.990030</td>\n",
       "      <td>1.002000</td>\n",
       "      <td>1.006496</td>\n",
       "      <td>0.993704</td>\n",
       "      <td>1.009133</td>\n",
       "      <td>...</td>\n",
       "      <td>1.013828</td>\n",
       "      <td>1.001481</td>\n",
       "      <td>0.992433</td>\n",
       "      <td>1.004515</td>\n",
       "      <td>1.004726</td>\n",
       "      <td>1.005245</td>\n",
       "      <td>1.011718</td>\n",
       "      <td>0.993924</td>\n",
       "      <td>1.000984</td>\n",
       "      <td>1.003849</td>\n",
       "    </tr>\n",
       "    <tr>\n",
       "      <th>3</th>\n",
       "      <td>1.001850</td>\n",
       "      <td>1.012890</td>\n",
       "      <td>1.008492</td>\n",
       "      <td>1.008100</td>\n",
       "      <td>0.998456</td>\n",
       "      <td>0.994909</td>\n",
       "      <td>1.008251</td>\n",
       "      <td>1.001585</td>\n",
       "      <td>1.000881</td>\n",
       "      <td>1.009669</td>\n",
       "      <td>...</td>\n",
       "      <td>1.008917</td>\n",
       "      <td>1.008524</td>\n",
       "      <td>0.997022</td>\n",
       "      <td>1.007406</td>\n",
       "      <td>1.002346</td>\n",
       "      <td>1.003330</td>\n",
       "      <td>1.006057</td>\n",
       "      <td>0.989498</td>\n",
       "      <td>0.994478</td>\n",
       "      <td>0.991527</td>\n",
       "    </tr>\n",
       "    <tr>\n",
       "      <th>4</th>\n",
       "      <td>1.005409</td>\n",
       "      <td>1.015041</td>\n",
       "      <td>1.021364</td>\n",
       "      <td>1.001163</td>\n",
       "      <td>0.996860</td>\n",
       "      <td>1.003659</td>\n",
       "      <td>1.018578</td>\n",
       "      <td>0.997655</td>\n",
       "      <td>0.986602</td>\n",
       "      <td>1.012510</td>\n",
       "      <td>...</td>\n",
       "      <td>1.011567</td>\n",
       "      <td>1.009758</td>\n",
       "      <td>0.997987</td>\n",
       "      <td>1.003305</td>\n",
       "      <td>0.999856</td>\n",
       "      <td>1.004673</td>\n",
       "      <td>1.009065</td>\n",
       "      <td>0.990529</td>\n",
       "      <td>1.001357</td>\n",
       "      <td>0.994902</td>\n",
       "    </tr>\n",
       "    <tr>\n",
       "      <th>...</th>\n",
       "      <td>...</td>\n",
       "      <td>...</td>\n",
       "      <td>...</td>\n",
       "      <td>...</td>\n",
       "      <td>...</td>\n",
       "      <td>...</td>\n",
       "      <td>...</td>\n",
       "      <td>...</td>\n",
       "      <td>...</td>\n",
       "      <td>...</td>\n",
       "      <td>...</td>\n",
       "      <td>...</td>\n",
       "      <td>...</td>\n",
       "      <td>...</td>\n",
       "      <td>...</td>\n",
       "      <td>...</td>\n",
       "      <td>...</td>\n",
       "      <td>...</td>\n",
       "      <td>...</td>\n",
       "      <td>...</td>\n",
       "      <td>...</td>\n",
       "    </tr>\n",
       "    <tr>\n",
       "      <th>2516</th>\n",
       "      <td>2.197869</td>\n",
       "      <td>1.421432</td>\n",
       "      <td>1.826113</td>\n",
       "      <td>1.042029</td>\n",
       "      <td>1.778562</td>\n",
       "      <td>1.304499</td>\n",
       "      <td>1.694399</td>\n",
       "      <td>1.267981</td>\n",
       "      <td>1.946658</td>\n",
       "      <td>2.043014</td>\n",
       "      <td>...</td>\n",
       "      <td>1.345732</td>\n",
       "      <td>2.139105</td>\n",
       "      <td>1.070846</td>\n",
       "      <td>1.604642</td>\n",
       "      <td>2.757612</td>\n",
       "      <td>1.173562</td>\n",
       "      <td>2.203958</td>\n",
       "      <td>1.937059</td>\n",
       "      <td>1.932404</td>\n",
       "      <td>1.564383</td>\n",
       "    </tr>\n",
       "    <tr>\n",
       "      <th>2517</th>\n",
       "      <td>2.196887</td>\n",
       "      <td>1.439566</td>\n",
       "      <td>1.825927</td>\n",
       "      <td>1.035610</td>\n",
       "      <td>1.788744</td>\n",
       "      <td>1.309537</td>\n",
       "      <td>1.695636</td>\n",
       "      <td>1.261524</td>\n",
       "      <td>1.950474</td>\n",
       "      <td>2.039579</td>\n",
       "      <td>...</td>\n",
       "      <td>1.345604</td>\n",
       "      <td>2.134517</td>\n",
       "      <td>1.068666</td>\n",
       "      <td>1.613930</td>\n",
       "      <td>2.764564</td>\n",
       "      <td>1.173507</td>\n",
       "      <td>2.209907</td>\n",
       "      <td>1.937868</td>\n",
       "      <td>1.936118</td>\n",
       "      <td>1.576559</td>\n",
       "    </tr>\n",
       "    <tr>\n",
       "      <th>2518</th>\n",
       "      <td>2.185408</td>\n",
       "      <td>1.449108</td>\n",
       "      <td>1.831249</td>\n",
       "      <td>1.044627</td>\n",
       "      <td>1.798513</td>\n",
       "      <td>1.306800</td>\n",
       "      <td>1.696656</td>\n",
       "      <td>1.257632</td>\n",
       "      <td>1.951270</td>\n",
       "      <td>2.026189</td>\n",
       "      <td>...</td>\n",
       "      <td>1.345236</td>\n",
       "      <td>2.137806</td>\n",
       "      <td>1.063526</td>\n",
       "      <td>1.604056</td>\n",
       "      <td>2.771886</td>\n",
       "      <td>1.163800</td>\n",
       "      <td>2.211566</td>\n",
       "      <td>1.959326</td>\n",
       "      <td>1.936486</td>\n",
       "      <td>1.569174</td>\n",
       "    </tr>\n",
       "    <tr>\n",
       "      <th>2519</th>\n",
       "      <td>2.195967</td>\n",
       "      <td>1.440369</td>\n",
       "      <td>1.832830</td>\n",
       "      <td>1.048432</td>\n",
       "      <td>1.799759</td>\n",
       "      <td>1.309448</td>\n",
       "      <td>1.680266</td>\n",
       "      <td>1.253689</td>\n",
       "      <td>1.962707</td>\n",
       "      <td>2.037256</td>\n",
       "      <td>...</td>\n",
       "      <td>1.346543</td>\n",
       "      <td>2.129629</td>\n",
       "      <td>1.066466</td>\n",
       "      <td>1.607509</td>\n",
       "      <td>2.773013</td>\n",
       "      <td>1.160388</td>\n",
       "      <td>2.225201</td>\n",
       "      <td>1.966375</td>\n",
       "      <td>1.946756</td>\n",
       "      <td>1.559064</td>\n",
       "    </tr>\n",
       "    <tr>\n",
       "      <th>2520</th>\n",
       "      <td>2.198863</td>\n",
       "      <td>1.441377</td>\n",
       "      <td>1.855926</td>\n",
       "      <td>1.041035</td>\n",
       "      <td>1.794306</td>\n",
       "      <td>1.313459</td>\n",
       "      <td>1.681317</td>\n",
       "      <td>1.256131</td>\n",
       "      <td>1.953058</td>\n",
       "      <td>2.047464</td>\n",
       "      <td>...</td>\n",
       "      <td>1.351552</td>\n",
       "      <td>2.129010</td>\n",
       "      <td>1.068496</td>\n",
       "      <td>1.597645</td>\n",
       "      <td>2.766433</td>\n",
       "      <td>1.148199</td>\n",
       "      <td>2.217819</td>\n",
       "      <td>1.951754</td>\n",
       "      <td>1.939783</td>\n",
       "      <td>1.561709</td>\n",
       "    </tr>\n",
       "  </tbody>\n",
       "</table>\n",
       "<p>2521 rows × 500 columns</p>\n",
       "</div>"
      ],
      "text/plain": [
       "           0         1         2         3         4         5         6    \\\n",
       "0     1.000000  1.000000  1.000000  1.000000  1.000000  1.000000  1.000000   \n",
       "1     0.997343  1.002418  1.006125  1.006461  0.999591  0.996574  1.000550   \n",
       "2     1.001601  1.006886  1.007097  1.009709  1.001150  0.990030  1.002000   \n",
       "3     1.001850  1.012890  1.008492  1.008100  0.998456  0.994909  1.008251   \n",
       "4     1.005409  1.015041  1.021364  1.001163  0.996860  1.003659  1.018578   \n",
       "...        ...       ...       ...       ...       ...       ...       ...   \n",
       "2516  2.197869  1.421432  1.826113  1.042029  1.778562  1.304499  1.694399   \n",
       "2517  2.196887  1.439566  1.825927  1.035610  1.788744  1.309537  1.695636   \n",
       "2518  2.185408  1.449108  1.831249  1.044627  1.798513  1.306800  1.696656   \n",
       "2519  2.195967  1.440369  1.832830  1.048432  1.799759  1.309448  1.680266   \n",
       "2520  2.198863  1.441377  1.855926  1.041035  1.794306  1.313459  1.681317   \n",
       "\n",
       "           7         8         9    ...       490       491       492  \\\n",
       "0     1.000000  1.000000  1.000000  ...  1.000000  1.000000  1.000000   \n",
       "1     1.007902  0.991643  1.006267  ...  1.002357  1.001690  0.993996   \n",
       "2     1.006496  0.993704  1.009133  ...  1.013828  1.001481  0.992433   \n",
       "3     1.001585  1.000881  1.009669  ...  1.008917  1.008524  0.997022   \n",
       "4     0.997655  0.986602  1.012510  ...  1.011567  1.009758  0.997987   \n",
       "...        ...       ...       ...  ...       ...       ...       ...   \n",
       "2516  1.267981  1.946658  2.043014  ...  1.345732  2.139105  1.070846   \n",
       "2517  1.261524  1.950474  2.039579  ...  1.345604  2.134517  1.068666   \n",
       "2518  1.257632  1.951270  2.026189  ...  1.345236  2.137806  1.063526   \n",
       "2519  1.253689  1.962707  2.037256  ...  1.346543  2.129629  1.066466   \n",
       "2520  1.256131  1.953058  2.047464  ...  1.351552  2.129010  1.068496   \n",
       "\n",
       "           493       494       495       496       497       498       499  \n",
       "0     1.000000  1.000000  1.000000  1.000000  1.000000  1.000000  1.000000  \n",
       "1     1.003134  0.999475  1.000110  1.012933  1.000697  1.001918  1.001103  \n",
       "2     1.004515  1.004726  1.005245  1.011718  0.993924  1.000984  1.003849  \n",
       "3     1.007406  1.002346  1.003330  1.006057  0.989498  0.994478  0.991527  \n",
       "4     1.003305  0.999856  1.004673  1.009065  0.990529  1.001357  0.994902  \n",
       "...        ...       ...       ...       ...       ...       ...       ...  \n",
       "2516  1.604642  2.757612  1.173562  2.203958  1.937059  1.932404  1.564383  \n",
       "2517  1.613930  2.764564  1.173507  2.209907  1.937868  1.936118  1.576559  \n",
       "2518  1.604056  2.771886  1.163800  2.211566  1.959326  1.936486  1.569174  \n",
       "2519  1.607509  2.773013  1.160388  2.225201  1.966375  1.946756  1.559064  \n",
       "2520  1.597645  2.766433  1.148199  2.217819  1.951754  1.939783  1.561709  \n",
       "\n",
       "[2521 rows x 500 columns]"
      ]
     },
     "execution_count": 58,
     "metadata": {},
     "output_type": "execute_result"
    }
   ],
   "source": [
    "# Running a Monte Carlo simulation to forecast 10 years cumulative returns\n",
    "# YOUR CODE HERE!\n",
    "MC_10year.calc_cumulative_return()"
   ]
  },
  {
   "cell_type": "code",
   "execution_count": 59,
   "metadata": {},
   "outputs": [
    {
     "data": {
      "image/png": "[encoded data removed]",
      "text/plain": [
       "<Figure size 432x288 with 1 Axes>"
      ]
     },
     "metadata": {
      "needs_background": "light"
     },
     "output_type": "display_data"
    }
   ],
   "source": [
    "# Plot simulation outcomes\n",
    "# YOUR CODE HERE!\n",
    "line_plot = MC_10year.plot_simulation()"
   ]
  },
  {
   "cell_type": "code",
   "execution_count": 60,
   "metadata": {},
   "outputs": [
    {
     "data": {
      "image/png": "[encoded data removed]",
      "text/plain": [
       "<Figure size 432x288 with 1 Axes>"
      ]
     },
     "metadata": {
      "needs_background": "light"
     },
     "output_type": "display_data"
    }
   ],
   "source": [
    "# Plot probability distribution and confidence intervals\n",
    "# YOUR CODE HERE!\n",
    "dist_plot = MC_10year.plot_distribution()"
   ]
  },
  {
   "cell_type": "code",
   "execution_count": 61,
   "metadata": {},
   "outputs": [
    {
     "name": "stdout",
     "output_type": "stream",
     "text": [
      "count           500.000000\n",
      "mean              1.771513\n",
      "std               0.493547\n",
      "min               0.805285\n",
      "25%               1.392455\n",
      "50%               1.708396\n",
      "75%               2.095601\n",
      "max               4.057086\n",
      "95% CI Lower      1.011399\n",
      "95% CI Upper      2.811679\n",
      "Name: 2520, dtype: float64\n"
     ]
    }
   ],
   "source": [
    "# Fetch summary statistics from the Monte Carlo simulation results\n",
    "# YOUR CODE HERE!\n",
    "tbl10 = MC_10year.summarize_cumulative_return()\n",
    "# Print summary statistics\n",
    "# YOUR CODE HERE!\n",
    "print(tbl10)"
   ]
  },
  {
   "cell_type": "code",
   "execution_count": 62,
   "metadata": {},
   "outputs": [
    {
     "name": "stdout",
     "output_type": "stream",
     "text": [
      "There is a 95% chance that an initial investment of $20000 in the portfolio over the next 10 years will end within in the range of $20227.98 and $270533.08\n"
     ]
    }
   ],
   "source": [
    "# Set initial investment\n",
    "# YOUR CODE HERE!\n",
    "initial_investment = 20000\n",
    "\n",
    "# Use the lower and upper `95%` confidence intervals to calculate the range of the possible outcomes of our $60,000\n",
    "# YOUR CODE HERE!\n",
    "ci_lower_ten = round(tbl10[8]*20000,2)\n",
    "ci_upper_ten = round(tbl[9]*20000,2)\n",
    "\n",
    "# Print results\n",
    "print(f\"There is a 95% chance that an initial investment of ${initial_investment} in the portfolio\"\n",
    "      f\" over the next 10 years will end within in the range of\"\n",
    "      f\" ${ci_lower_ten} and ${ci_upper_ten}\")"
   ]
  }
 ],
 "metadata": {
  "kernelspec": {
   "display_name": "Python 3",
   "language": "python",
   "name": "python3"
  },
  "language_info": {
   "codemirror_mode": {
    "name": "ipython",
    "version": 3
   },
   "file_extension": ".py",
   "mimetype": "text/x-python",
   "name": "python",
   "nbconvert_exporter": "python",
   "pygments_lexer": "ipython3",
   "version": "3.7.9"
  }
 },
 "nbformat": 4,
 "nbformat_minor": 4
}
